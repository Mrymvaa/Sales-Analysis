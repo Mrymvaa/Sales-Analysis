{
  "nbformat": 4,
  "nbformat_minor": 0,
  "metadata": {
    "colab": {
      "name": "Sales_Analysis .ipynb",
      "provenance": [],
      "collapsed_sections": []
    },
    "kernelspec": {
      "display_name": "Python 3",
      "name": "python3"
    },
    "language_info": {
      "codemirror_mode": {
        "name": "ipython",
        "version": 3
      },
      "file_extension": ".py",
      "mimetype": "text/x-python",
      "name": "python",
      "nbconvert_exporter": "python",
      "pygments_lexer": "ipython3",
      "version": "3.8.8"
    }
  },
  "cells": [
    {
      "cell_type": "markdown",
      "metadata": {
        "id": "hxWhQK9hnshB"
      },
      "source": [
        "<center>\n",
        "\n",
        "![](https://drive.google.com/uc?export=view&id=1R6EAVE0Ysym-UNtZR-Ze_HcqQLDmH0bd) \n",
        "<p> \n",
        "College: Engineering and Information Technology <br>\n",
        "Department: Information Technology <br>\n",
        "Program: Data Analytics <br>\n",
        "Academic semester: Fall 2021- 2022 <br>\n",
        "Data Engineering Project DAT204 <br>\n",
        "Dr Salam Fraihat <br>\n",
        "</p></center>\n",
        "\n",
        "</p></center>"
      ]
    },
    {
      "cell_type": "markdown",
      "metadata": {
        "id": "hiD9bTt0jmGg"
      },
      "source": [
        "<center>\n",
        "\n",
        "# **Sales Analysis Project**\n",
        "\n",
        "</p></center>\n",
        "\n",
        "*   Maryam Almetnawy 202010914\n",
        "*   Raghad Yousef 202020278\n",
        "\n",
        "---\n",
        "\n",
        "\n",
        "\n",
        "\n"
      ]
    },
    {
      "cell_type": "markdown",
      "metadata": {
        "id": "BfZGyMhHqqaT"
      },
      "source": [
        "# **FEATURES**\n",
        "\n",
        "\n",
        "*   Order ID\n",
        "\n",
        "*   Product\n",
        "*   Quantity Orderd\n",
        "\n",
        "*   Price Each\n",
        "* Order Date\n",
        "* Purchase Address\n",
        "\n"
      ]
    },
    {
      "cell_type": "markdown",
      "metadata": {
        "id": "5x-8oPDhrNMC"
      },
      "source": [
        "# **Description of data:**\n",
        "Dataset on USA Sales during 2019"
      ]
    },
    {
      "cell_type": "markdown",
      "metadata": {
        "id": "Wn5Jvm9ukGN1"
      },
      "source": [
        "\n",
        "\n",
        "# **Extraction Process**\n",
        "(Full Extraction)\n"
      ]
    },
    {
      "cell_type": "markdown",
      "metadata": {
        "id": "S_T4bR2G8Hpr"
      },
      "source": [
        "\n",
        "\n",
        ">  ▶ Importing the libraries we are using for the analysis\n",
        "\n"
      ]
    },
    {
      "cell_type": "code",
      "metadata": {
        "id": "Cqh3SwCNL7at"
      },
      "source": [
        "import pandas as pd\n",
        "import os"
      ],
      "execution_count": 1,
      "outputs": []
    },
    {
      "cell_type": "markdown",
      "metadata": {
        "id": "_TeG_1l_8ZwX"
      },
      "source": [
        "\n",
        "> ▶ Concating all 12 files into a single csv file for easy use \n",
        "\n"
      ]
    },
    {
      "cell_type": "code",
      "metadata": {
        "colab": {
          "base_uri": "https://localhost:8080/"
        },
        "id": "Xbj7Rpy-JoUQ",
        "outputId": "c7e9df6f-cd3d-4fba-c716-fd7226197c5c"
      },
      "source": [
        "from google.colab import drive \n",
        "drive.mount(\"/content/drive\")"
      ],
      "execution_count": 2,
      "outputs": [
        {
          "output_type": "stream",
          "name": "stdout",
          "text": [
            "Drive already mounted at /content/drive; to attempt to forcibly remount, call drive.mount(\"/content/drive\", force_remount=True).\n"
          ]
        }
      ]
    },
    {
      "cell_type": "code",
      "metadata": {
        "id": "XVHICHf66RHM"
      },
      "source": [
        "files=[file for file in os.listdir('/content/drive/MyDrive/Colab Notebooks/Sales_Data')]\n",
        "all_months_data=pd.DataFrame() \n",
        "for file in files :\n",
        "    df=pd.read_csv(\"/content/drive/MyDrive/Colab Notebooks/Sales_Data/\"+file)\n",
        "    all_months_data=pd.concat([all_months_data,df])\n",
        "all_months_data.to_csv(\"All_data.csv\", index = False)"
      ],
      "execution_count": 3,
      "outputs": []
    },
    {
      "cell_type": "markdown",
      "metadata": {
        "id": "IOgbEjVU-xSK"
      },
      "source": [
        "\n",
        "> ▶ Reading the csv file\n",
        "\n"
      ]
    },
    {
      "cell_type": "code",
      "metadata": {
        "colab": {
          "base_uri": "https://localhost:8080/",
          "height": 423
        },
        "id": "KrCoMyGB7kor",
        "outputId": "46fd321b-4f2b-4e58-f136-80c79f23c356"
      },
      "source": [
        "DataFrame = pd.read_csv(\"All_data.csv\")\n",
        "DataFrame"
      ],
      "execution_count": 4,
      "outputs": [
        {
          "output_type": "execute_result",
          "data": {
            "text/html": [
              "<div>\n",
              "<style scoped>\n",
              "    .dataframe tbody tr th:only-of-type {\n",
              "        vertical-align: middle;\n",
              "    }\n",
              "\n",
              "    .dataframe tbody tr th {\n",
              "        vertical-align: top;\n",
              "    }\n",
              "\n",
              "    .dataframe thead th {\n",
              "        text-align: right;\n",
              "    }\n",
              "</style>\n",
              "<table border=\"1\" class=\"dataframe\">\n",
              "  <thead>\n",
              "    <tr style=\"text-align: right;\">\n",
              "      <th></th>\n",
              "      <th>Order ID</th>\n",
              "      <th>Product</th>\n",
              "      <th>Quantity Ordered</th>\n",
              "      <th>Price Each</th>\n",
              "      <th>Order Date</th>\n",
              "      <th>Purchase Address</th>\n",
              "    </tr>\n",
              "  </thead>\n",
              "  <tbody>\n",
              "    <tr>\n",
              "      <th>0</th>\n",
              "      <td>295665</td>\n",
              "      <td>Macbook Pro Laptop</td>\n",
              "      <td>1</td>\n",
              "      <td>1700</td>\n",
              "      <td>12/30/19 00:01</td>\n",
              "      <td>136 Church St, New York City, NY 10001</td>\n",
              "    </tr>\n",
              "    <tr>\n",
              "      <th>1</th>\n",
              "      <td>295666</td>\n",
              "      <td>LG Washing Machine</td>\n",
              "      <td>1</td>\n",
              "      <td>600.0</td>\n",
              "      <td>12/29/19 07:03</td>\n",
              "      <td>562 2nd St, New York City, NY 10001</td>\n",
              "    </tr>\n",
              "    <tr>\n",
              "      <th>2</th>\n",
              "      <td>295667</td>\n",
              "      <td>USB-C Charging Cable</td>\n",
              "      <td>1</td>\n",
              "      <td>11.95</td>\n",
              "      <td>12/12/19 18:21</td>\n",
              "      <td>277 Main St, New York City, NY 10001</td>\n",
              "    </tr>\n",
              "    <tr>\n",
              "      <th>3</th>\n",
              "      <td>295668</td>\n",
              "      <td>27in FHD Monitor</td>\n",
              "      <td>1</td>\n",
              "      <td>149.99</td>\n",
              "      <td>12/22/19 15:13</td>\n",
              "      <td>410 6th St, San Francisco, CA 94016</td>\n",
              "    </tr>\n",
              "    <tr>\n",
              "      <th>4</th>\n",
              "      <td>295669</td>\n",
              "      <td>USB-C Charging Cable</td>\n",
              "      <td>1</td>\n",
              "      <td>11.95</td>\n",
              "      <td>12/18/19 12:38</td>\n",
              "      <td>43 Hill St, Atlanta, GA 30301</td>\n",
              "    </tr>\n",
              "    <tr>\n",
              "      <th>...</th>\n",
              "      <td>...</td>\n",
              "      <td>...</td>\n",
              "      <td>...</td>\n",
              "      <td>...</td>\n",
              "      <td>...</td>\n",
              "      <td>...</td>\n",
              "    </tr>\n",
              "    <tr>\n",
              "      <th>186845</th>\n",
              "      <td>295660</td>\n",
              "      <td>AAA Batteries (4-pack)</td>\n",
              "      <td>2</td>\n",
              "      <td>2.99</td>\n",
              "      <td>11/04/19 14:17</td>\n",
              "      <td>574 4th St, Los Angeles, CA 90001</td>\n",
              "    </tr>\n",
              "    <tr>\n",
              "      <th>186846</th>\n",
              "      <td>295661</td>\n",
              "      <td>USB-C Charging Cable</td>\n",
              "      <td>1</td>\n",
              "      <td>11.95</td>\n",
              "      <td>11/23/19 07:22</td>\n",
              "      <td>359 1st St, Austin, TX 73301</td>\n",
              "    </tr>\n",
              "    <tr>\n",
              "      <th>186847</th>\n",
              "      <td>295662</td>\n",
              "      <td>Lightning Charging Cable</td>\n",
              "      <td>1</td>\n",
              "      <td>14.95</td>\n",
              "      <td>11/13/19 16:12</td>\n",
              "      <td>900 10th St, Boston, MA 02215</td>\n",
              "    </tr>\n",
              "    <tr>\n",
              "      <th>186848</th>\n",
              "      <td>295663</td>\n",
              "      <td>AAA Batteries (4-pack)</td>\n",
              "      <td>1</td>\n",
              "      <td>2.99</td>\n",
              "      <td>11/17/19 17:08</td>\n",
              "      <td>592 Sunset St, Boston, MA 02215</td>\n",
              "    </tr>\n",
              "    <tr>\n",
              "      <th>186849</th>\n",
              "      <td>295664</td>\n",
              "      <td>Google Phone</td>\n",
              "      <td>1</td>\n",
              "      <td>600</td>\n",
              "      <td>11/17/19 16:13</td>\n",
              "      <td>428 Jackson St, Boston, MA 02215</td>\n",
              "    </tr>\n",
              "  </tbody>\n",
              "</table>\n",
              "<p>186850 rows × 6 columns</p>\n",
              "</div>"
            ],
            "text/plain": [
              "       Order ID  ...                        Purchase Address\n",
              "0        295665  ...  136 Church St, New York City, NY 10001\n",
              "1        295666  ...     562 2nd St, New York City, NY 10001\n",
              "2        295667  ...    277 Main St, New York City, NY 10001\n",
              "3        295668  ...     410 6th St, San Francisco, CA 94016\n",
              "4        295669  ...           43 Hill St, Atlanta, GA 30301\n",
              "...         ...  ...                                     ...\n",
              "186845   295660  ...       574 4th St, Los Angeles, CA 90001\n",
              "186846   295661  ...            359 1st St, Austin, TX 73301\n",
              "186847   295662  ...           900 10th St, Boston, MA 02215\n",
              "186848   295663  ...         592 Sunset St, Boston, MA 02215\n",
              "186849   295664  ...        428 Jackson St, Boston, MA 02215\n",
              "\n",
              "[186850 rows x 6 columns]"
            ]
          },
          "metadata": {},
          "execution_count": 4
        }
      ]
    },
    {
      "cell_type": "markdown",
      "metadata": {
        "id": "oKfe4W-2IE8h"
      },
      "source": [
        "\n",
        "# **Data Profiling**\n",
        "\n",
        "*   Analyzing the data to identify errors and missing data.\n",
        "*   Collecting descriptive statistics.\n",
        "*   Collecting data types.\n",
        "*   Performing data quality assessments.\n",
        "*   Looking for risks of performing joins on the data.\n",
        "*   Identifying inconsistencies in the format\n",
        "\n",
        "\n",
        "\n",
        "\n",
        "\n",
        "\n"
      ]
    },
    {
      "cell_type": "markdown",
      "metadata": {
        "id": "3FUNEgJt5iBh"
      },
      "source": [
        "\n",
        "\n",
        "> ▶ Summary of the dataset\n",
        "\n"
      ]
    },
    {
      "cell_type": "code",
      "metadata": {
        "colab": {
          "base_uri": "https://localhost:8080/"
        },
        "id": "DD5HsxLQDLsy",
        "outputId": "c9d6ff89-c2f9-4770-b4c0-fef5f70e9d07"
      },
      "source": [
        "# null values are 186850 entries while 186305 are non-null \n",
        "# There is a total of 6 columns and 186850 rows\n",
        "DataFrame.info()"
      ],
      "execution_count": 5,
      "outputs": [
        {
          "output_type": "stream",
          "name": "stdout",
          "text": [
            "<class 'pandas.core.frame.DataFrame'>\n",
            "RangeIndex: 186850 entries, 0 to 186849\n",
            "Data columns (total 6 columns):\n",
            " #   Column            Non-Null Count   Dtype \n",
            "---  ------            --------------   ----- \n",
            " 0   Order ID          186305 non-null  object\n",
            " 1   Product           186305 non-null  object\n",
            " 2   Quantity Ordered  186305 non-null  object\n",
            " 3   Price Each        186305 non-null  object\n",
            " 4   Order Date        186305 non-null  object\n",
            " 5   Purchase Address  186305 non-null  object\n",
            "dtypes: object(6)\n",
            "memory usage: 8.6+ MB\n"
          ]
        }
      ]
    },
    {
      "cell_type": "markdown",
      "metadata": {
        "id": "urNOMQHDF7IX"
      },
      "source": [
        "\n",
        "> ▶Checking for missing values\n",
        "\n",
        "\n",
        "\n",
        "\n",
        "\n"
      ]
    },
    {
      "cell_type": "code",
      "metadata": {
        "colab": {
          "base_uri": "https://localhost:8080/"
        },
        "id": "ln9rSprK4mCB",
        "outputId": "9d3b9704-d22f-4243-83f1-f4d5a6498f3b"
      },
      "source": [
        "nan_df = DataFrame.isnull().sum()\n",
        "nan_df\n",
        "#There are 545 missing values in the dataFrame"
      ],
      "execution_count": 6,
      "outputs": [
        {
          "output_type": "execute_result",
          "data": {
            "text/plain": [
              "Order ID            545\n",
              "Product             545\n",
              "Quantity Ordered    545\n",
              "Price Each          545\n",
              "Order Date          545\n",
              "Purchase Address    545\n",
              "dtype: int64"
            ]
          },
          "metadata": {},
          "execution_count": 6
        }
      ]
    },
    {
      "cell_type": "code",
      "metadata": {
        "colab": {
          "base_uri": "https://localhost:8080/",
          "height": 206
        },
        "id": "Tpo-z7hnHrO6",
        "outputId": "f13f0992-bca5-44ba-c2c0-154c94febc5c"
      },
      "source": [
        "nan_df = DataFrame[DataFrame.isna().any(axis=1)]\n",
        "nan_df.head()"
      ],
      "execution_count": 7,
      "outputs": [
        {
          "output_type": "execute_result",
          "data": {
            "text/html": [
              "<div>\n",
              "<style scoped>\n",
              "    .dataframe tbody tr th:only-of-type {\n",
              "        vertical-align: middle;\n",
              "    }\n",
              "\n",
              "    .dataframe tbody tr th {\n",
              "        vertical-align: top;\n",
              "    }\n",
              "\n",
              "    .dataframe thead th {\n",
              "        text-align: right;\n",
              "    }\n",
              "</style>\n",
              "<table border=\"1\" class=\"dataframe\">\n",
              "  <thead>\n",
              "    <tr style=\"text-align: right;\">\n",
              "      <th></th>\n",
              "      <th>Order ID</th>\n",
              "      <th>Product</th>\n",
              "      <th>Quantity Ordered</th>\n",
              "      <th>Price Each</th>\n",
              "      <th>Order Date</th>\n",
              "      <th>Purchase Address</th>\n",
              "    </tr>\n",
              "  </thead>\n",
              "  <tbody>\n",
              "    <tr>\n",
              "      <th>264</th>\n",
              "      <td>NaN</td>\n",
              "      <td>NaN</td>\n",
              "      <td>NaN</td>\n",
              "      <td>NaN</td>\n",
              "      <td>NaN</td>\n",
              "      <td>NaN</td>\n",
              "    </tr>\n",
              "    <tr>\n",
              "      <th>648</th>\n",
              "      <td>NaN</td>\n",
              "      <td>NaN</td>\n",
              "      <td>NaN</td>\n",
              "      <td>NaN</td>\n",
              "      <td>NaN</td>\n",
              "      <td>NaN</td>\n",
              "    </tr>\n",
              "    <tr>\n",
              "      <th>680</th>\n",
              "      <td>NaN</td>\n",
              "      <td>NaN</td>\n",
              "      <td>NaN</td>\n",
              "      <td>NaN</td>\n",
              "      <td>NaN</td>\n",
              "      <td>NaN</td>\n",
              "    </tr>\n",
              "    <tr>\n",
              "      <th>1385</th>\n",
              "      <td>NaN</td>\n",
              "      <td>NaN</td>\n",
              "      <td>NaN</td>\n",
              "      <td>NaN</td>\n",
              "      <td>NaN</td>\n",
              "      <td>NaN</td>\n",
              "    </tr>\n",
              "    <tr>\n",
              "      <th>1495</th>\n",
              "      <td>NaN</td>\n",
              "      <td>NaN</td>\n",
              "      <td>NaN</td>\n",
              "      <td>NaN</td>\n",
              "      <td>NaN</td>\n",
              "      <td>NaN</td>\n",
              "    </tr>\n",
              "  </tbody>\n",
              "</table>\n",
              "</div>"
            ],
            "text/plain": [
              "     Order ID Product Quantity Ordered Price Each Order Date Purchase Address\n",
              "264       NaN     NaN              NaN        NaN        NaN              NaN\n",
              "648       NaN     NaN              NaN        NaN        NaN              NaN\n",
              "680       NaN     NaN              NaN        NaN        NaN              NaN\n",
              "1385      NaN     NaN              NaN        NaN        NaN              NaN\n",
              "1495      NaN     NaN              NaN        NaN        NaN              NaN"
            ]
          },
          "metadata": {},
          "execution_count": 7
        }
      ]
    },
    {
      "cell_type": "markdown",
      "metadata": {
        "id": "CMe7UieS_BEs"
      },
      "source": [
        "\n",
        "\n",
        "> ▶ Statistical summarization of the columns\n",
        "\n",
        "  -Summary statistics provide a quick look at the limits of observed values. It \n",
        "\n",
        "\n",
        "can help to get a quick idea of what we are working with\n"
      ]
    },
    {
      "cell_type": "code",
      "metadata": {
        "colab": {
          "base_uri": "https://localhost:8080/",
          "height": 175
        },
        "id": "4cdeA8Ao8OzP",
        "outputId": "963d844e-5535-4154-81c0-b26c692273b9"
      },
      "source": [
        "DataFrame.describe()"
      ],
      "execution_count": 8,
      "outputs": [
        {
          "output_type": "execute_result",
          "data": {
            "text/html": [
              "<div>\n",
              "<style scoped>\n",
              "    .dataframe tbody tr th:only-of-type {\n",
              "        vertical-align: middle;\n",
              "    }\n",
              "\n",
              "    .dataframe tbody tr th {\n",
              "        vertical-align: top;\n",
              "    }\n",
              "\n",
              "    .dataframe thead th {\n",
              "        text-align: right;\n",
              "    }\n",
              "</style>\n",
              "<table border=\"1\" class=\"dataframe\">\n",
              "  <thead>\n",
              "    <tr style=\"text-align: right;\">\n",
              "      <th></th>\n",
              "      <th>Order ID</th>\n",
              "      <th>Product</th>\n",
              "      <th>Quantity Ordered</th>\n",
              "      <th>Price Each</th>\n",
              "      <th>Order Date</th>\n",
              "      <th>Purchase Address</th>\n",
              "    </tr>\n",
              "  </thead>\n",
              "  <tbody>\n",
              "    <tr>\n",
              "      <th>count</th>\n",
              "      <td>186305</td>\n",
              "      <td>186305</td>\n",
              "      <td>186305</td>\n",
              "      <td>186305</td>\n",
              "      <td>186305</td>\n",
              "      <td>186305</td>\n",
              "    </tr>\n",
              "    <tr>\n",
              "      <th>unique</th>\n",
              "      <td>178438</td>\n",
              "      <td>20</td>\n",
              "      <td>10</td>\n",
              "      <td>24</td>\n",
              "      <td>142396</td>\n",
              "      <td>140788</td>\n",
              "    </tr>\n",
              "    <tr>\n",
              "      <th>top</th>\n",
              "      <td>Order ID</td>\n",
              "      <td>USB-C Charging Cable</td>\n",
              "      <td>1</td>\n",
              "      <td>11.95</td>\n",
              "      <td>Order Date</td>\n",
              "      <td>Purchase Address</td>\n",
              "    </tr>\n",
              "    <tr>\n",
              "      <th>freq</th>\n",
              "      <td>355</td>\n",
              "      <td>21903</td>\n",
              "      <td>168552</td>\n",
              "      <td>21903</td>\n",
              "      <td>355</td>\n",
              "      <td>355</td>\n",
              "    </tr>\n",
              "  </tbody>\n",
              "</table>\n",
              "</div>"
            ],
            "text/plain": [
              "        Order ID               Product  ...  Order Date  Purchase Address\n",
              "count     186305                186305  ...      186305            186305\n",
              "unique    178438                    20  ...      142396            140788\n",
              "top     Order ID  USB-C Charging Cable  ...  Order Date  Purchase Address\n",
              "freq         355                 21903  ...         355               355\n",
              "\n",
              "[4 rows x 6 columns]"
            ]
          },
          "metadata": {},
          "execution_count": 8
        }
      ]
    },
    {
      "cell_type": "markdown",
      "metadata": {
        "id": "MjDikyq3-pwF"
      },
      "source": [
        "\n",
        "\n",
        "> ▶ Detecting duplicates \n",
        "\n"
      ]
    },
    {
      "cell_type": "code",
      "metadata": {
        "colab": {
          "base_uri": "https://localhost:8080/"
        },
        "id": "SLKaIbX29e6l",
        "outputId": "8d14c095-6279-467b-ffe9-8bda01ea0aeb"
      },
      "source": [
        "DataFrame.duplicated().sum()"
      ],
      "execution_count": 9,
      "outputs": [
        {
          "output_type": "execute_result",
          "data": {
            "text/plain": [
              "1162"
            ]
          },
          "metadata": {},
          "execution_count": 9
        }
      ]
    },
    {
      "cell_type": "code",
      "metadata": {
        "colab": {
          "base_uri": "https://localhost:8080/",
          "height": 423
        },
        "id": "-jY_Lg0zlXoq",
        "outputId": "79c30344-df1d-4a77-d1f5-1a0aaef9d136"
      },
      "source": [
        "duplicateRowsDF = DataFrame[DataFrame.duplicated()]\n",
        "duplicateRowsDF\n",
        "# Displaying the rows with duplicates \n",
        "# We can see that most of them are missing values and duplicates of the column keys due to the concatenation"
      ],
      "execution_count": 10,
      "outputs": [
        {
          "output_type": "execute_result",
          "data": {
            "text/html": [
              "<div>\n",
              "<style scoped>\n",
              "    .dataframe tbody tr th:only-of-type {\n",
              "        vertical-align: middle;\n",
              "    }\n",
              "\n",
              "    .dataframe tbody tr th {\n",
              "        vertical-align: top;\n",
              "    }\n",
              "\n",
              "    .dataframe thead th {\n",
              "        text-align: right;\n",
              "    }\n",
              "</style>\n",
              "<table border=\"1\" class=\"dataframe\">\n",
              "  <thead>\n",
              "    <tr style=\"text-align: right;\">\n",
              "      <th></th>\n",
              "      <th>Order ID</th>\n",
              "      <th>Product</th>\n",
              "      <th>Quantity Ordered</th>\n",
              "      <th>Price Each</th>\n",
              "      <th>Order Date</th>\n",
              "      <th>Purchase Address</th>\n",
              "    </tr>\n",
              "  </thead>\n",
              "  <tbody>\n",
              "    <tr>\n",
              "      <th>440</th>\n",
              "      <td>296081</td>\n",
              "      <td>Flatscreen TV</td>\n",
              "      <td>1</td>\n",
              "      <td>300</td>\n",
              "      <td>12/30/19 16:52</td>\n",
              "      <td>970 Sunset St, Austin, TX 73301</td>\n",
              "    </tr>\n",
              "    <tr>\n",
              "      <th>648</th>\n",
              "      <td>NaN</td>\n",
              "      <td>NaN</td>\n",
              "      <td>NaN</td>\n",
              "      <td>NaN</td>\n",
              "      <td>NaN</td>\n",
              "      <td>NaN</td>\n",
              "    </tr>\n",
              "    <tr>\n",
              "      <th>680</th>\n",
              "      <td>NaN</td>\n",
              "      <td>NaN</td>\n",
              "      <td>NaN</td>\n",
              "      <td>NaN</td>\n",
              "      <td>NaN</td>\n",
              "      <td>NaN</td>\n",
              "    </tr>\n",
              "    <tr>\n",
              "      <th>705</th>\n",
              "      <td>Order ID</td>\n",
              "      <td>Product</td>\n",
              "      <td>Quantity Ordered</td>\n",
              "      <td>Price Each</td>\n",
              "      <td>Order Date</td>\n",
              "      <td>Purchase Address</td>\n",
              "    </tr>\n",
              "    <tr>\n",
              "      <th>1101</th>\n",
              "      <td>Order ID</td>\n",
              "      <td>Product</td>\n",
              "      <td>Quantity Ordered</td>\n",
              "      <td>Price Each</td>\n",
              "      <td>Order Date</td>\n",
              "      <td>Purchase Address</td>\n",
              "    </tr>\n",
              "    <tr>\n",
              "      <th>...</th>\n",
              "      <td>...</td>\n",
              "      <td>...</td>\n",
              "      <td>...</td>\n",
              "      <td>...</td>\n",
              "      <td>...</td>\n",
              "      <td>...</td>\n",
              "    </tr>\n",
              "    <tr>\n",
              "      <th>186336</th>\n",
              "      <td>Order ID</td>\n",
              "      <td>Product</td>\n",
              "      <td>Quantity Ordered</td>\n",
              "      <td>Price Each</td>\n",
              "      <td>Order Date</td>\n",
              "      <td>Purchase Address</td>\n",
              "    </tr>\n",
              "    <tr>\n",
              "      <th>186416</th>\n",
              "      <td>NaN</td>\n",
              "      <td>NaN</td>\n",
              "      <td>NaN</td>\n",
              "      <td>NaN</td>\n",
              "      <td>NaN</td>\n",
              "      <td>NaN</td>\n",
              "    </tr>\n",
              "    <tr>\n",
              "      <th>186448</th>\n",
              "      <td>Order ID</td>\n",
              "      <td>Product</td>\n",
              "      <td>Quantity Ordered</td>\n",
              "      <td>Price Each</td>\n",
              "      <td>Order Date</td>\n",
              "      <td>Purchase Address</td>\n",
              "    </tr>\n",
              "    <tr>\n",
              "      <th>186653</th>\n",
              "      <td>NaN</td>\n",
              "      <td>NaN</td>\n",
              "      <td>NaN</td>\n",
              "      <td>NaN</td>\n",
              "      <td>NaN</td>\n",
              "      <td>NaN</td>\n",
              "    </tr>\n",
              "    <tr>\n",
              "      <th>186658</th>\n",
              "      <td>NaN</td>\n",
              "      <td>NaN</td>\n",
              "      <td>NaN</td>\n",
              "      <td>NaN</td>\n",
              "      <td>NaN</td>\n",
              "      <td>NaN</td>\n",
              "    </tr>\n",
              "  </tbody>\n",
              "</table>\n",
              "<p>1162 rows × 6 columns</p>\n",
              "</div>"
            ],
            "text/plain": [
              "        Order ID  ...                 Purchase Address\n",
              "440       296081  ...  970 Sunset St, Austin, TX 73301\n",
              "648          NaN  ...                              NaN\n",
              "680          NaN  ...                              NaN\n",
              "705     Order ID  ...                 Purchase Address\n",
              "1101    Order ID  ...                 Purchase Address\n",
              "...          ...  ...                              ...\n",
              "186336  Order ID  ...                 Purchase Address\n",
              "186416       NaN  ...                              NaN\n",
              "186448  Order ID  ...                 Purchase Address\n",
              "186653       NaN  ...                              NaN\n",
              "186658       NaN  ...                              NaN\n",
              "\n",
              "[1162 rows x 6 columns]"
            ]
          },
          "metadata": {},
          "execution_count": 10
        }
      ]
    },
    {
      "cell_type": "markdown",
      "metadata": {
        "id": "Ut0uL3IEBCcF"
      },
      "source": [
        "# **Transformation Process**"
      ]
    },
    {
      "cell_type": "markdown",
      "metadata": {
        "id": "adIlCFVxHE9u"
      },
      "source": [
        "\n",
        "\n",
        "> ▶Cleaning up the data\n",
        "\n"
      ]
    },
    {
      "cell_type": "code",
      "metadata": {
        "colab": {
          "base_uri": "https://localhost:8080/",
          "height": 206
        },
        "id": "uyLKFhDhHRJV",
        "outputId": "201032ff-1322-4d2c-d3e9-509a1ff50aef"
      },
      "source": [
        "DataFrame = DataFrame.dropna(how = 'all')\n",
        "DataFrame.head()\n",
        "# Dropping all null values"
      ],
      "execution_count": 11,
      "outputs": [
        {
          "output_type": "execute_result",
          "data": {
            "text/html": [
              "<div>\n",
              "<style scoped>\n",
              "    .dataframe tbody tr th:only-of-type {\n",
              "        vertical-align: middle;\n",
              "    }\n",
              "\n",
              "    .dataframe tbody tr th {\n",
              "        vertical-align: top;\n",
              "    }\n",
              "\n",
              "    .dataframe thead th {\n",
              "        text-align: right;\n",
              "    }\n",
              "</style>\n",
              "<table border=\"1\" class=\"dataframe\">\n",
              "  <thead>\n",
              "    <tr style=\"text-align: right;\">\n",
              "      <th></th>\n",
              "      <th>Order ID</th>\n",
              "      <th>Product</th>\n",
              "      <th>Quantity Ordered</th>\n",
              "      <th>Price Each</th>\n",
              "      <th>Order Date</th>\n",
              "      <th>Purchase Address</th>\n",
              "    </tr>\n",
              "  </thead>\n",
              "  <tbody>\n",
              "    <tr>\n",
              "      <th>0</th>\n",
              "      <td>295665</td>\n",
              "      <td>Macbook Pro Laptop</td>\n",
              "      <td>1</td>\n",
              "      <td>1700</td>\n",
              "      <td>12/30/19 00:01</td>\n",
              "      <td>136 Church St, New York City, NY 10001</td>\n",
              "    </tr>\n",
              "    <tr>\n",
              "      <th>1</th>\n",
              "      <td>295666</td>\n",
              "      <td>LG Washing Machine</td>\n",
              "      <td>1</td>\n",
              "      <td>600.0</td>\n",
              "      <td>12/29/19 07:03</td>\n",
              "      <td>562 2nd St, New York City, NY 10001</td>\n",
              "    </tr>\n",
              "    <tr>\n",
              "      <th>2</th>\n",
              "      <td>295667</td>\n",
              "      <td>USB-C Charging Cable</td>\n",
              "      <td>1</td>\n",
              "      <td>11.95</td>\n",
              "      <td>12/12/19 18:21</td>\n",
              "      <td>277 Main St, New York City, NY 10001</td>\n",
              "    </tr>\n",
              "    <tr>\n",
              "      <th>3</th>\n",
              "      <td>295668</td>\n",
              "      <td>27in FHD Monitor</td>\n",
              "      <td>1</td>\n",
              "      <td>149.99</td>\n",
              "      <td>12/22/19 15:13</td>\n",
              "      <td>410 6th St, San Francisco, CA 94016</td>\n",
              "    </tr>\n",
              "    <tr>\n",
              "      <th>4</th>\n",
              "      <td>295669</td>\n",
              "      <td>USB-C Charging Cable</td>\n",
              "      <td>1</td>\n",
              "      <td>11.95</td>\n",
              "      <td>12/18/19 12:38</td>\n",
              "      <td>43 Hill St, Atlanta, GA 30301</td>\n",
              "    </tr>\n",
              "  </tbody>\n",
              "</table>\n",
              "</div>"
            ],
            "text/plain": [
              "  Order ID  ...                        Purchase Address\n",
              "0   295665  ...  136 Church St, New York City, NY 10001\n",
              "1   295666  ...     562 2nd St, New York City, NY 10001\n",
              "2   295667  ...    277 Main St, New York City, NY 10001\n",
              "3   295668  ...     410 6th St, San Francisco, CA 94016\n",
              "4   295669  ...           43 Hill St, Atlanta, GA 30301\n",
              "\n",
              "[5 rows x 6 columns]"
            ]
          },
          "metadata": {},
          "execution_count": 11
        }
      ]
    },
    {
      "cell_type": "code",
      "metadata": {
        "colab": {
          "base_uri": "https://localhost:8080/"
        },
        "id": "7HW6-isfBUca",
        "outputId": "47e18bb5-5703-44cc-cdc0-deb1dfe98aff"
      },
      "source": [
        "nan_df = DataFrame.isnull().sum()\n",
        "nan_df\n",
        "# We can see that all missing values are dropped"
      ],
      "execution_count": 12,
      "outputs": [
        {
          "output_type": "execute_result",
          "data": {
            "text/plain": [
              "Order ID            0\n",
              "Product             0\n",
              "Quantity Ordered    0\n",
              "Price Each          0\n",
              "Order Date          0\n",
              "Purchase Address    0\n",
              "dtype: int64"
            ]
          },
          "metadata": {},
          "execution_count": 12
        }
      ]
    },
    {
      "cell_type": "markdown",
      "metadata": {
        "id": "RIUARnCCSKmV"
      },
      "source": [
        "\n",
        "\n",
        "\n",
        "> ▶Data Filtering\n",
        "\n"
      ]
    },
    {
      "cell_type": "code",
      "metadata": {
        "colab": {
          "base_uri": "https://localhost:8080/",
          "height": 206
        },
        "id": "hGTGZXsvP4mc",
        "outputId": "d477671c-a331-4596-9169-7b0a3ce645fc"
      },
      "source": [
        "temp_d=DataFrame[DataFrame['Order Date'].str[0:2]=='Or']\n",
        "temp_d.head()\n",
        "# As a result of horizontal concatenation the keys of the dataframes got duplicated so we need to drop them"
      ],
      "execution_count": 13,
      "outputs": [
        {
          "output_type": "execute_result",
          "data": {
            "text/html": [
              "<div>\n",
              "<style scoped>\n",
              "    .dataframe tbody tr th:only-of-type {\n",
              "        vertical-align: middle;\n",
              "    }\n",
              "\n",
              "    .dataframe tbody tr th {\n",
              "        vertical-align: top;\n",
              "    }\n",
              "\n",
              "    .dataframe thead th {\n",
              "        text-align: right;\n",
              "    }\n",
              "</style>\n",
              "<table border=\"1\" class=\"dataframe\">\n",
              "  <thead>\n",
              "    <tr style=\"text-align: right;\">\n",
              "      <th></th>\n",
              "      <th>Order ID</th>\n",
              "      <th>Product</th>\n",
              "      <th>Quantity Ordered</th>\n",
              "      <th>Price Each</th>\n",
              "      <th>Order Date</th>\n",
              "      <th>Purchase Address</th>\n",
              "    </tr>\n",
              "  </thead>\n",
              "  <tbody>\n",
              "    <tr>\n",
              "      <th>254</th>\n",
              "      <td>Order ID</td>\n",
              "      <td>Product</td>\n",
              "      <td>Quantity Ordered</td>\n",
              "      <td>Price Each</td>\n",
              "      <td>Order Date</td>\n",
              "      <td>Purchase Address</td>\n",
              "    </tr>\n",
              "    <tr>\n",
              "      <th>705</th>\n",
              "      <td>Order ID</td>\n",
              "      <td>Product</td>\n",
              "      <td>Quantity Ordered</td>\n",
              "      <td>Price Each</td>\n",
              "      <td>Order Date</td>\n",
              "      <td>Purchase Address</td>\n",
              "    </tr>\n",
              "    <tr>\n",
              "      <th>1101</th>\n",
              "      <td>Order ID</td>\n",
              "      <td>Product</td>\n",
              "      <td>Quantity Ordered</td>\n",
              "      <td>Price Each</td>\n",
              "      <td>Order Date</td>\n",
              "      <td>Purchase Address</td>\n",
              "    </tr>\n",
              "    <tr>\n",
              "      <th>2875</th>\n",
              "      <td>Order ID</td>\n",
              "      <td>Product</td>\n",
              "      <td>Quantity Ordered</td>\n",
              "      <td>Price Each</td>\n",
              "      <td>Order Date</td>\n",
              "      <td>Purchase Address</td>\n",
              "    </tr>\n",
              "    <tr>\n",
              "      <th>3708</th>\n",
              "      <td>Order ID</td>\n",
              "      <td>Product</td>\n",
              "      <td>Quantity Ordered</td>\n",
              "      <td>Price Each</td>\n",
              "      <td>Order Date</td>\n",
              "      <td>Purchase Address</td>\n",
              "    </tr>\n",
              "  </tbody>\n",
              "</table>\n",
              "</div>"
            ],
            "text/plain": [
              "      Order ID  Product  ...  Order Date  Purchase Address\n",
              "254   Order ID  Product  ...  Order Date  Purchase Address\n",
              "705   Order ID  Product  ...  Order Date  Purchase Address\n",
              "1101  Order ID  Product  ...  Order Date  Purchase Address\n",
              "2875  Order ID  Product  ...  Order Date  Purchase Address\n",
              "3708  Order ID  Product  ...  Order Date  Purchase Address\n",
              "\n",
              "[5 rows x 6 columns]"
            ]
          },
          "metadata": {},
          "execution_count": 13
        }
      ]
    },
    {
      "cell_type": "code",
      "metadata": {
        "colab": {
          "base_uri": "https://localhost:8080/",
          "height": 206
        },
        "id": "s7gLXr16QvtE",
        "outputId": "a876fdf6-b00c-4341-c47c-a63dbb4be105"
      },
      "source": [
        "DataFrame=DataFrame[DataFrame['Order Date'].str[0:2]!='Or']\n",
        "DataFrame.head()\n",
        "# Dropping all the duplicated keys by filtering the dataset to not equal \"Or\" from \"Order\""
      ],
      "execution_count": 14,
      "outputs": [
        {
          "output_type": "execute_result",
          "data": {
            "text/html": [
              "<div>\n",
              "<style scoped>\n",
              "    .dataframe tbody tr th:only-of-type {\n",
              "        vertical-align: middle;\n",
              "    }\n",
              "\n",
              "    .dataframe tbody tr th {\n",
              "        vertical-align: top;\n",
              "    }\n",
              "\n",
              "    .dataframe thead th {\n",
              "        text-align: right;\n",
              "    }\n",
              "</style>\n",
              "<table border=\"1\" class=\"dataframe\">\n",
              "  <thead>\n",
              "    <tr style=\"text-align: right;\">\n",
              "      <th></th>\n",
              "      <th>Order ID</th>\n",
              "      <th>Product</th>\n",
              "      <th>Quantity Ordered</th>\n",
              "      <th>Price Each</th>\n",
              "      <th>Order Date</th>\n",
              "      <th>Purchase Address</th>\n",
              "    </tr>\n",
              "  </thead>\n",
              "  <tbody>\n",
              "    <tr>\n",
              "      <th>0</th>\n",
              "      <td>295665</td>\n",
              "      <td>Macbook Pro Laptop</td>\n",
              "      <td>1</td>\n",
              "      <td>1700</td>\n",
              "      <td>12/30/19 00:01</td>\n",
              "      <td>136 Church St, New York City, NY 10001</td>\n",
              "    </tr>\n",
              "    <tr>\n",
              "      <th>1</th>\n",
              "      <td>295666</td>\n",
              "      <td>LG Washing Machine</td>\n",
              "      <td>1</td>\n",
              "      <td>600.0</td>\n",
              "      <td>12/29/19 07:03</td>\n",
              "      <td>562 2nd St, New York City, NY 10001</td>\n",
              "    </tr>\n",
              "    <tr>\n",
              "      <th>2</th>\n",
              "      <td>295667</td>\n",
              "      <td>USB-C Charging Cable</td>\n",
              "      <td>1</td>\n",
              "      <td>11.95</td>\n",
              "      <td>12/12/19 18:21</td>\n",
              "      <td>277 Main St, New York City, NY 10001</td>\n",
              "    </tr>\n",
              "    <tr>\n",
              "      <th>3</th>\n",
              "      <td>295668</td>\n",
              "      <td>27in FHD Monitor</td>\n",
              "      <td>1</td>\n",
              "      <td>149.99</td>\n",
              "      <td>12/22/19 15:13</td>\n",
              "      <td>410 6th St, San Francisco, CA 94016</td>\n",
              "    </tr>\n",
              "    <tr>\n",
              "      <th>4</th>\n",
              "      <td>295669</td>\n",
              "      <td>USB-C Charging Cable</td>\n",
              "      <td>1</td>\n",
              "      <td>11.95</td>\n",
              "      <td>12/18/19 12:38</td>\n",
              "      <td>43 Hill St, Atlanta, GA 30301</td>\n",
              "    </tr>\n",
              "  </tbody>\n",
              "</table>\n",
              "</div>"
            ],
            "text/plain": [
              "  Order ID  ...                        Purchase Address\n",
              "0   295665  ...  136 Church St, New York City, NY 10001\n",
              "1   295666  ...     562 2nd St, New York City, NY 10001\n",
              "2   295667  ...    277 Main St, New York City, NY 10001\n",
              "3   295668  ...     410 6th St, San Francisco, CA 94016\n",
              "4   295669  ...           43 Hill St, Atlanta, GA 30301\n",
              "\n",
              "[5 rows x 6 columns]"
            ]
          },
          "metadata": {},
          "execution_count": 14
        }
      ]
    },
    {
      "cell_type": "code",
      "metadata": {
        "colab": {
          "base_uri": "https://localhost:8080/",
          "height": 423
        },
        "id": "Ch66MWWT1qSe",
        "outputId": "dd84e822-130a-448b-856f-fd5b0910fb31"
      },
      "source": [
        "duplicateRowsDF = DataFrame[DataFrame.duplicated()]\n",
        "duplicateRowsDF\n",
        "# We can notice that the duplicate rows are dropped and what's displayed now are just similar products or prices"
      ],
      "execution_count": 15,
      "outputs": [
        {
          "output_type": "execute_result",
          "data": {
            "text/html": [
              "<div>\n",
              "<style scoped>\n",
              "    .dataframe tbody tr th:only-of-type {\n",
              "        vertical-align: middle;\n",
              "    }\n",
              "\n",
              "    .dataframe tbody tr th {\n",
              "        vertical-align: top;\n",
              "    }\n",
              "\n",
              "    .dataframe thead th {\n",
              "        text-align: right;\n",
              "    }\n",
              "</style>\n",
              "<table border=\"1\" class=\"dataframe\">\n",
              "  <thead>\n",
              "    <tr style=\"text-align: right;\">\n",
              "      <th></th>\n",
              "      <th>Order ID</th>\n",
              "      <th>Product</th>\n",
              "      <th>Quantity Ordered</th>\n",
              "      <th>Price Each</th>\n",
              "      <th>Order Date</th>\n",
              "      <th>Purchase Address</th>\n",
              "    </tr>\n",
              "  </thead>\n",
              "  <tbody>\n",
              "    <tr>\n",
              "      <th>440</th>\n",
              "      <td>296081</td>\n",
              "      <td>Flatscreen TV</td>\n",
              "      <td>1</td>\n",
              "      <td>300</td>\n",
              "      <td>12/30/19 16:52</td>\n",
              "      <td>970 Sunset St, Austin, TX 73301</td>\n",
              "    </tr>\n",
              "    <tr>\n",
              "      <th>1735</th>\n",
              "      <td>297311</td>\n",
              "      <td>Bose SoundSport Headphones</td>\n",
              "      <td>1</td>\n",
              "      <td>99.99</td>\n",
              "      <td>12/07/19 07:30</td>\n",
              "      <td>858 Willow St, Los Angeles, CA 90001</td>\n",
              "    </tr>\n",
              "    <tr>\n",
              "      <th>2822</th>\n",
              "      <td>298358</td>\n",
              "      <td>Apple Airpods Headphones</td>\n",
              "      <td>1</td>\n",
              "      <td>150</td>\n",
              "      <td>12/04/19 15:57</td>\n",
              "      <td>482 8th St, San Francisco, CA 94016</td>\n",
              "    </tr>\n",
              "    <tr>\n",
              "      <th>3131</th>\n",
              "      <td>298657</td>\n",
              "      <td>Lightning Charging Cable</td>\n",
              "      <td>1</td>\n",
              "      <td>14.95</td>\n",
              "      <td>12/01/19 18:22</td>\n",
              "      <td>428 12th St, Atlanta, GA 30301</td>\n",
              "    </tr>\n",
              "    <tr>\n",
              "      <th>3377</th>\n",
              "      <td>298883</td>\n",
              "      <td>Wired Headphones</td>\n",
              "      <td>1</td>\n",
              "      <td>11.99</td>\n",
              "      <td>12/28/19 18:07</td>\n",
              "      <td>516 Willow St, Los Angeles, CA 90001</td>\n",
              "    </tr>\n",
              "    <tr>\n",
              "      <th>...</th>\n",
              "      <td>...</td>\n",
              "      <td>...</td>\n",
              "      <td>...</td>\n",
              "      <td>...</td>\n",
              "      <td>...</td>\n",
              "      <td>...</td>\n",
              "    </tr>\n",
              "    <tr>\n",
              "      <th>182956</th>\n",
              "      <td>291949</td>\n",
              "      <td>Lightning Charging Cable</td>\n",
              "      <td>1</td>\n",
              "      <td>14.95</td>\n",
              "      <td>11/30/19 23:22</td>\n",
              "      <td>114 Elm St, Atlanta, GA 30301</td>\n",
              "    </tr>\n",
              "    <tr>\n",
              "      <th>183356</th>\n",
              "      <td>292335</td>\n",
              "      <td>AA Batteries (4-pack)</td>\n",
              "      <td>1</td>\n",
              "      <td>3.84</td>\n",
              "      <td>11/09/19 11:23</td>\n",
              "      <td>834 5th St, Dallas, TX 75001</td>\n",
              "    </tr>\n",
              "    <tr>\n",
              "      <th>184169</th>\n",
              "      <td>293114</td>\n",
              "      <td>USB-C Charging Cable</td>\n",
              "      <td>1</td>\n",
              "      <td>11.95</td>\n",
              "      <td>11/29/19 14:35</td>\n",
              "      <td>145 8th St, Austin, TX 73301</td>\n",
              "    </tr>\n",
              "    <tr>\n",
              "      <th>184317</th>\n",
              "      <td>293254</td>\n",
              "      <td>Apple Airpods Headphones</td>\n",
              "      <td>1</td>\n",
              "      <td>150</td>\n",
              "      <td>11/01/19 12:07</td>\n",
              "      <td>762 12th St, San Francisco, CA 94016</td>\n",
              "    </tr>\n",
              "    <tr>\n",
              "      <th>184423</th>\n",
              "      <td>293356</td>\n",
              "      <td>USB-C Charging Cable</td>\n",
              "      <td>1</td>\n",
              "      <td>11.95</td>\n",
              "      <td>11/13/19 00:59</td>\n",
              "      <td>394 Dogwood St, Dallas, TX 75001</td>\n",
              "    </tr>\n",
              "  </tbody>\n",
              "</table>\n",
              "<p>264 rows × 6 columns</p>\n",
              "</div>"
            ],
            "text/plain": [
              "       Order ID  ...                      Purchase Address\n",
              "440      296081  ...       970 Sunset St, Austin, TX 73301\n",
              "1735     297311  ...  858 Willow St, Los Angeles, CA 90001\n",
              "2822     298358  ...   482 8th St, San Francisco, CA 94016\n",
              "3131     298657  ...        428 12th St, Atlanta, GA 30301\n",
              "3377     298883  ...  516 Willow St, Los Angeles, CA 90001\n",
              "...         ...  ...                                   ...\n",
              "182956   291949  ...         114 Elm St, Atlanta, GA 30301\n",
              "183356   292335  ...          834 5th St, Dallas, TX 75001\n",
              "184169   293114  ...          145 8th St, Austin, TX 73301\n",
              "184317   293254  ...  762 12th St, San Francisco, CA 94016\n",
              "184423   293356  ...      394 Dogwood St, Dallas, TX 75001\n",
              "\n",
              "[264 rows x 6 columns]"
            ]
          },
          "metadata": {},
          "execution_count": 15
        }
      ]
    },
    {
      "cell_type": "code",
      "metadata": {
        "colab": {
          "base_uri": "https://localhost:8080/"
        },
        "id": "mqUCBqZiU0Wb",
        "outputId": "2ac6c00b-6f9d-403d-ee2f-0a328818d8a2"
      },
      "source": [
        "DataFrame.dtypes\n",
        "# All 6 columns are of object type"
      ],
      "execution_count": 16,
      "outputs": [
        {
          "output_type": "execute_result",
          "data": {
            "text/plain": [
              "Order ID            object\n",
              "Product             object\n",
              "Quantity Ordered    object\n",
              "Price Each          object\n",
              "Order Date          object\n",
              "Purchase Address    object\n",
              "dtype: object"
            ]
          },
          "metadata": {},
          "execution_count": 16
        }
      ]
    },
    {
      "cell_type": "code",
      "metadata": {
        "colab": {
          "base_uri": "https://localhost:8080/"
        },
        "id": "VcO_9yyJVFCJ",
        "outputId": "61b3713e-e935-4d8a-9b2f-f4815f01f5a8"
      },
      "source": [
        "print(type('Order ID') is str)\n",
        "print(type('Product') is str)\n",
        "print(type('Quantity Ordered') is str)\n",
        "print(type('Price Each') is str)\n",
        "print(type('Order Date') is str)\n",
        "print(type('Purchase Address') is str)\n",
        "\n",
        "# As given below, it shows that all the objects are a string type"
      ],
      "execution_count": 17,
      "outputs": [
        {
          "output_type": "stream",
          "name": "stdout",
          "text": [
            "True\n",
            "True\n",
            "True\n",
            "True\n",
            "True\n",
            "True\n"
          ]
        }
      ]
    },
    {
      "cell_type": "markdown",
      "metadata": {
        "id": "1uzzoXtjkMdp"
      },
      "source": [
        "# **Questions**\n",
        "1.  What was the best month for sales? And how much was earned that month?\n",
        "2.  What city sold the most product?\n",
        "3.  What time is the best for purchasing the product?\n",
        "4.  What are the most purchased products together?\n",
        "5. \tWhat product is sold the most? \n",
        "\n",
        "\n",
        "\n"
      ]
    },
    {
      "cell_type": "markdown",
      "metadata": {
        "id": "6A2c1VxrFLMH"
      },
      "source": [
        "\n",
        "\n",
        "**Question 1: What was the best month for sales? And how much was earned that month?** \n",
        "\n"
      ]
    },
    {
      "cell_type": "markdown",
      "metadata": {
        "id": "PHcv7Wg1cQcK"
      },
      "source": [
        "\n",
        "\n",
        "> ▶Adding a months column to the DataFrame\n",
        "\n"
      ]
    },
    {
      "cell_type": "code",
      "metadata": {
        "colab": {
          "base_uri": "https://localhost:8080/",
          "height": 206
        },
        "id": "M8N8AUzsPbKu",
        "outputId": "4855bd5f-3afb-406f-b300-71d85c306928"
      },
      "source": [
        "DataFrame['Month']=DataFrame['Order Date'].str[0:2]\n",
        "DataFrame.head()\n",
        "# We added the months column so it can be easier to read\n",
        "# By converting the order date to string and selecting the second character which is the month"
      ],
      "execution_count": 18,
      "outputs": [
        {
          "output_type": "execute_result",
          "data": {
            "text/html": [
              "<div>\n",
              "<style scoped>\n",
              "    .dataframe tbody tr th:only-of-type {\n",
              "        vertical-align: middle;\n",
              "    }\n",
              "\n",
              "    .dataframe tbody tr th {\n",
              "        vertical-align: top;\n",
              "    }\n",
              "\n",
              "    .dataframe thead th {\n",
              "        text-align: right;\n",
              "    }\n",
              "</style>\n",
              "<table border=\"1\" class=\"dataframe\">\n",
              "  <thead>\n",
              "    <tr style=\"text-align: right;\">\n",
              "      <th></th>\n",
              "      <th>Order ID</th>\n",
              "      <th>Product</th>\n",
              "      <th>Quantity Ordered</th>\n",
              "      <th>Price Each</th>\n",
              "      <th>Order Date</th>\n",
              "      <th>Purchase Address</th>\n",
              "      <th>Month</th>\n",
              "    </tr>\n",
              "  </thead>\n",
              "  <tbody>\n",
              "    <tr>\n",
              "      <th>0</th>\n",
              "      <td>295665</td>\n",
              "      <td>Macbook Pro Laptop</td>\n",
              "      <td>1</td>\n",
              "      <td>1700</td>\n",
              "      <td>12/30/19 00:01</td>\n",
              "      <td>136 Church St, New York City, NY 10001</td>\n",
              "      <td>12</td>\n",
              "    </tr>\n",
              "    <tr>\n",
              "      <th>1</th>\n",
              "      <td>295666</td>\n",
              "      <td>LG Washing Machine</td>\n",
              "      <td>1</td>\n",
              "      <td>600.0</td>\n",
              "      <td>12/29/19 07:03</td>\n",
              "      <td>562 2nd St, New York City, NY 10001</td>\n",
              "      <td>12</td>\n",
              "    </tr>\n",
              "    <tr>\n",
              "      <th>2</th>\n",
              "      <td>295667</td>\n",
              "      <td>USB-C Charging Cable</td>\n",
              "      <td>1</td>\n",
              "      <td>11.95</td>\n",
              "      <td>12/12/19 18:21</td>\n",
              "      <td>277 Main St, New York City, NY 10001</td>\n",
              "      <td>12</td>\n",
              "    </tr>\n",
              "    <tr>\n",
              "      <th>3</th>\n",
              "      <td>295668</td>\n",
              "      <td>27in FHD Monitor</td>\n",
              "      <td>1</td>\n",
              "      <td>149.99</td>\n",
              "      <td>12/22/19 15:13</td>\n",
              "      <td>410 6th St, San Francisco, CA 94016</td>\n",
              "      <td>12</td>\n",
              "    </tr>\n",
              "    <tr>\n",
              "      <th>4</th>\n",
              "      <td>295669</td>\n",
              "      <td>USB-C Charging Cable</td>\n",
              "      <td>1</td>\n",
              "      <td>11.95</td>\n",
              "      <td>12/18/19 12:38</td>\n",
              "      <td>43 Hill St, Atlanta, GA 30301</td>\n",
              "      <td>12</td>\n",
              "    </tr>\n",
              "  </tbody>\n",
              "</table>\n",
              "</div>"
            ],
            "text/plain": [
              "  Order ID               Product  ...                        Purchase Address Month\n",
              "0   295665    Macbook Pro Laptop  ...  136 Church St, New York City, NY 10001    12\n",
              "1   295666    LG Washing Machine  ...     562 2nd St, New York City, NY 10001    12\n",
              "2   295667  USB-C Charging Cable  ...    277 Main St, New York City, NY 10001    12\n",
              "3   295668      27in FHD Monitor  ...     410 6th St, San Francisco, CA 94016    12\n",
              "4   295669  USB-C Charging Cable  ...           43 Hill St, Atlanta, GA 30301    12\n",
              "\n",
              "[5 rows x 7 columns]"
            ]
          },
          "metadata": {},
          "execution_count": 18
        }
      ]
    },
    {
      "cell_type": "markdown",
      "metadata": {
        "id": "LR9VmauAAXyS"
      },
      "source": [
        "\n",
        "\n",
        "> ▶Converting Columns to numerical values\n",
        "\n"
      ]
    },
    {
      "cell_type": "code",
      "metadata": {
        "id": "dZF4iJ7lJ2Uh"
      },
      "source": [
        "DataFrame['Quantity Ordered']=pd.to_numeric(DataFrame['Quantity Ordered'])  \n",
        "DataFrame['Price Each']=pd.to_numeric(DataFrame['Price Each'])\n",
        "DataFrame['Month']=DataFrame['Month'].astype('int32')\n",
        "#DataFrame['Product']=DataFrame['Product'].astype('float32')\n",
        "\n",
        "#Converting to numerical values\n",
        "\n"
      ],
      "execution_count": 19,
      "outputs": []
    },
    {
      "cell_type": "code",
      "metadata": {
        "colab": {
          "base_uri": "https://localhost:8080/"
        },
        "id": "uZH8XuLjIEJf",
        "outputId": "96af90a9-62d7-47b5-a534-0789092fc1ed"
      },
      "source": [
        "DataFrame.dtypes"
      ],
      "execution_count": 20,
      "outputs": [
        {
          "output_type": "execute_result",
          "data": {
            "text/plain": [
              "Order ID             object\n",
              "Product              object\n",
              "Quantity Ordered      int64\n",
              "Price Each          float64\n",
              "Order Date           object\n",
              "Purchase Address     object\n",
              "Month                 int32\n",
              "dtype: object"
            ]
          },
          "metadata": {},
          "execution_count": 20
        }
      ]
    },
    {
      "cell_type": "markdown",
      "metadata": {
        "id": "9TNj_nkWAokQ"
      },
      "source": [
        "\n",
        "\n",
        "> ▶Adding a Sales column by calculating the orders by the price\n",
        "\n"
      ]
    },
    {
      "cell_type": "code",
      "metadata": {
        "colab": {
          "base_uri": "https://localhost:8080/",
          "height": 363
        },
        "id": "5dwq6KIPKL2l",
        "outputId": "750609b9-2caf-4679-9655-3dde5ce04978"
      },
      "source": [
        "DataFrame['Sales']=DataFrame['Quantity Ordered'] * DataFrame['Price Each']\n",
        "DataFrame.head(10)"
      ],
      "execution_count": 21,
      "outputs": [
        {
          "output_type": "execute_result",
          "data": {
            "text/html": [
              "<div>\n",
              "<style scoped>\n",
              "    .dataframe tbody tr th:only-of-type {\n",
              "        vertical-align: middle;\n",
              "    }\n",
              "\n",
              "    .dataframe tbody tr th {\n",
              "        vertical-align: top;\n",
              "    }\n",
              "\n",
              "    .dataframe thead th {\n",
              "        text-align: right;\n",
              "    }\n",
              "</style>\n",
              "<table border=\"1\" class=\"dataframe\">\n",
              "  <thead>\n",
              "    <tr style=\"text-align: right;\">\n",
              "      <th></th>\n",
              "      <th>Order ID</th>\n",
              "      <th>Product</th>\n",
              "      <th>Quantity Ordered</th>\n",
              "      <th>Price Each</th>\n",
              "      <th>Order Date</th>\n",
              "      <th>Purchase Address</th>\n",
              "      <th>Month</th>\n",
              "      <th>Sales</th>\n",
              "    </tr>\n",
              "  </thead>\n",
              "  <tbody>\n",
              "    <tr>\n",
              "      <th>0</th>\n",
              "      <td>295665</td>\n",
              "      <td>Macbook Pro Laptop</td>\n",
              "      <td>1</td>\n",
              "      <td>1700.00</td>\n",
              "      <td>12/30/19 00:01</td>\n",
              "      <td>136 Church St, New York City, NY 10001</td>\n",
              "      <td>12</td>\n",
              "      <td>1700.00</td>\n",
              "    </tr>\n",
              "    <tr>\n",
              "      <th>1</th>\n",
              "      <td>295666</td>\n",
              "      <td>LG Washing Machine</td>\n",
              "      <td>1</td>\n",
              "      <td>600.00</td>\n",
              "      <td>12/29/19 07:03</td>\n",
              "      <td>562 2nd St, New York City, NY 10001</td>\n",
              "      <td>12</td>\n",
              "      <td>600.00</td>\n",
              "    </tr>\n",
              "    <tr>\n",
              "      <th>2</th>\n",
              "      <td>295667</td>\n",
              "      <td>USB-C Charging Cable</td>\n",
              "      <td>1</td>\n",
              "      <td>11.95</td>\n",
              "      <td>12/12/19 18:21</td>\n",
              "      <td>277 Main St, New York City, NY 10001</td>\n",
              "      <td>12</td>\n",
              "      <td>11.95</td>\n",
              "    </tr>\n",
              "    <tr>\n",
              "      <th>3</th>\n",
              "      <td>295668</td>\n",
              "      <td>27in FHD Monitor</td>\n",
              "      <td>1</td>\n",
              "      <td>149.99</td>\n",
              "      <td>12/22/19 15:13</td>\n",
              "      <td>410 6th St, San Francisco, CA 94016</td>\n",
              "      <td>12</td>\n",
              "      <td>149.99</td>\n",
              "    </tr>\n",
              "    <tr>\n",
              "      <th>4</th>\n",
              "      <td>295669</td>\n",
              "      <td>USB-C Charging Cable</td>\n",
              "      <td>1</td>\n",
              "      <td>11.95</td>\n",
              "      <td>12/18/19 12:38</td>\n",
              "      <td>43 Hill St, Atlanta, GA 30301</td>\n",
              "      <td>12</td>\n",
              "      <td>11.95</td>\n",
              "    </tr>\n",
              "    <tr>\n",
              "      <th>5</th>\n",
              "      <td>295670</td>\n",
              "      <td>AA Batteries (4-pack)</td>\n",
              "      <td>1</td>\n",
              "      <td>3.84</td>\n",
              "      <td>12/31/19 22:58</td>\n",
              "      <td>200 Jefferson St, New York City, NY 10001</td>\n",
              "      <td>12</td>\n",
              "      <td>3.84</td>\n",
              "    </tr>\n",
              "    <tr>\n",
              "      <th>6</th>\n",
              "      <td>295671</td>\n",
              "      <td>USB-C Charging Cable</td>\n",
              "      <td>1</td>\n",
              "      <td>11.95</td>\n",
              "      <td>12/16/19 15:10</td>\n",
              "      <td>928 12th St, Portland, OR 97035</td>\n",
              "      <td>12</td>\n",
              "      <td>11.95</td>\n",
              "    </tr>\n",
              "    <tr>\n",
              "      <th>7</th>\n",
              "      <td>295672</td>\n",
              "      <td>USB-C Charging Cable</td>\n",
              "      <td>2</td>\n",
              "      <td>11.95</td>\n",
              "      <td>12/13/19 09:29</td>\n",
              "      <td>813 Hickory St, Dallas, TX 75001</td>\n",
              "      <td>12</td>\n",
              "      <td>23.90</td>\n",
              "    </tr>\n",
              "    <tr>\n",
              "      <th>8</th>\n",
              "      <td>295673</td>\n",
              "      <td>Bose SoundSport Headphones</td>\n",
              "      <td>1</td>\n",
              "      <td>99.99</td>\n",
              "      <td>12/15/19 23:26</td>\n",
              "      <td>718 Wilson St, Dallas, TX 75001</td>\n",
              "      <td>12</td>\n",
              "      <td>99.99</td>\n",
              "    </tr>\n",
              "    <tr>\n",
              "      <th>9</th>\n",
              "      <td>295674</td>\n",
              "      <td>AAA Batteries (4-pack)</td>\n",
              "      <td>4</td>\n",
              "      <td>2.99</td>\n",
              "      <td>12/28/19 11:51</td>\n",
              "      <td>77 7th St, Dallas, TX 75001</td>\n",
              "      <td>12</td>\n",
              "      <td>11.96</td>\n",
              "    </tr>\n",
              "  </tbody>\n",
              "</table>\n",
              "</div>"
            ],
            "text/plain": [
              "  Order ID                     Product  ...  Month    Sales\n",
              "0   295665          Macbook Pro Laptop  ...     12  1700.00\n",
              "1   295666          LG Washing Machine  ...     12   600.00\n",
              "2   295667        USB-C Charging Cable  ...     12    11.95\n",
              "3   295668            27in FHD Monitor  ...     12   149.99\n",
              "4   295669        USB-C Charging Cable  ...     12    11.95\n",
              "5   295670       AA Batteries (4-pack)  ...     12     3.84\n",
              "6   295671        USB-C Charging Cable  ...     12    11.95\n",
              "7   295672        USB-C Charging Cable  ...     12    23.90\n",
              "8   295673  Bose SoundSport Headphones  ...     12    99.99\n",
              "9   295674      AAA Batteries (4-pack)  ...     12    11.96\n",
              "\n",
              "[10 rows x 8 columns]"
            ]
          },
          "metadata": {},
          "execution_count": 21
        }
      ]
    },
    {
      "cell_type": "code",
      "metadata": {
        "colab": {
          "base_uri": "https://localhost:8080/",
          "height": 457
        },
        "id": "0Xs4BylrKcC6",
        "outputId": "f3fdd931-86d0-4edd-8cb3-f79b2267ddf7"
      },
      "source": [
        "results=DataFrame.groupby('Month').sum()\n",
        "results\n",
        "# Having the results grouped by the sum of month se we can get the total of orders and sales for each month"
      ],
      "execution_count": 22,
      "outputs": [
        {
          "output_type": "execute_result",
          "data": {
            "text/html": [
              "<div>\n",
              "<style scoped>\n",
              "    .dataframe tbody tr th:only-of-type {\n",
              "        vertical-align: middle;\n",
              "    }\n",
              "\n",
              "    .dataframe tbody tr th {\n",
              "        vertical-align: top;\n",
              "    }\n",
              "\n",
              "    .dataframe thead th {\n",
              "        text-align: right;\n",
              "    }\n",
              "</style>\n",
              "<table border=\"1\" class=\"dataframe\">\n",
              "  <thead>\n",
              "    <tr style=\"text-align: right;\">\n",
              "      <th></th>\n",
              "      <th>Quantity Ordered</th>\n",
              "      <th>Price Each</th>\n",
              "      <th>Sales</th>\n",
              "    </tr>\n",
              "    <tr>\n",
              "      <th>Month</th>\n",
              "      <th></th>\n",
              "      <th></th>\n",
              "      <th></th>\n",
              "    </tr>\n",
              "  </thead>\n",
              "  <tbody>\n",
              "    <tr>\n",
              "      <th>1</th>\n",
              "      <td>10903</td>\n",
              "      <td>1.811768e+06</td>\n",
              "      <td>1.822257e+06</td>\n",
              "    </tr>\n",
              "    <tr>\n",
              "      <th>2</th>\n",
              "      <td>13449</td>\n",
              "      <td>2.188885e+06</td>\n",
              "      <td>2.202022e+06</td>\n",
              "    </tr>\n",
              "    <tr>\n",
              "      <th>3</th>\n",
              "      <td>17005</td>\n",
              "      <td>2.791208e+06</td>\n",
              "      <td>2.807100e+06</td>\n",
              "    </tr>\n",
              "    <tr>\n",
              "      <th>4</th>\n",
              "      <td>20558</td>\n",
              "      <td>3.367671e+06</td>\n",
              "      <td>3.390670e+06</td>\n",
              "    </tr>\n",
              "    <tr>\n",
              "      <th>5</th>\n",
              "      <td>18667</td>\n",
              "      <td>3.135125e+06</td>\n",
              "      <td>3.152607e+06</td>\n",
              "    </tr>\n",
              "    <tr>\n",
              "      <th>6</th>\n",
              "      <td>15253</td>\n",
              "      <td>2.562026e+06</td>\n",
              "      <td>2.577802e+06</td>\n",
              "    </tr>\n",
              "    <tr>\n",
              "      <th>7</th>\n",
              "      <td>16072</td>\n",
              "      <td>2.632540e+06</td>\n",
              "      <td>2.647776e+06</td>\n",
              "    </tr>\n",
              "    <tr>\n",
              "      <th>8</th>\n",
              "      <td>13448</td>\n",
              "      <td>2.230345e+06</td>\n",
              "      <td>2.244468e+06</td>\n",
              "    </tr>\n",
              "    <tr>\n",
              "      <th>9</th>\n",
              "      <td>13109</td>\n",
              "      <td>2.084992e+06</td>\n",
              "      <td>2.097560e+06</td>\n",
              "    </tr>\n",
              "    <tr>\n",
              "      <th>10</th>\n",
              "      <td>22703</td>\n",
              "      <td>3.715555e+06</td>\n",
              "      <td>3.736727e+06</td>\n",
              "    </tr>\n",
              "    <tr>\n",
              "      <th>11</th>\n",
              "      <td>19798</td>\n",
              "      <td>3.180601e+06</td>\n",
              "      <td>3.199603e+06</td>\n",
              "    </tr>\n",
              "    <tr>\n",
              "      <th>12</th>\n",
              "      <td>28114</td>\n",
              "      <td>4.588415e+06</td>\n",
              "      <td>4.613443e+06</td>\n",
              "    </tr>\n",
              "  </tbody>\n",
              "</table>\n",
              "</div>"
            ],
            "text/plain": [
              "       Quantity Ordered    Price Each         Sales\n",
              "Month                                              \n",
              "1                 10903  1.811768e+06  1.822257e+06\n",
              "2                 13449  2.188885e+06  2.202022e+06\n",
              "3                 17005  2.791208e+06  2.807100e+06\n",
              "4                 20558  3.367671e+06  3.390670e+06\n",
              "5                 18667  3.135125e+06  3.152607e+06\n",
              "6                 15253  2.562026e+06  2.577802e+06\n",
              "7                 16072  2.632540e+06  2.647776e+06\n",
              "8                 13448  2.230345e+06  2.244468e+06\n",
              "9                 13109  2.084992e+06  2.097560e+06\n",
              "10                22703  3.715555e+06  3.736727e+06\n",
              "11                19798  3.180601e+06  3.199603e+06\n",
              "12                28114  4.588415e+06  4.613443e+06"
            ]
          },
          "metadata": {},
          "execution_count": 22
        }
      ]
    },
    {
      "cell_type": "markdown",
      "metadata": {
        "id": "K9uBKg8TDIbE"
      },
      "source": [
        "\n",
        "\n",
        "> ▶Plotting the result into a Bar chart to see the differences better\n",
        "\n",
        "\n"
      ]
    },
    {
      "cell_type": "code",
      "metadata": {
        "colab": {
          "base_uri": "https://localhost:8080/",
          "height": 290
        },
        "id": "sO5EP045KkiJ",
        "outputId": "6d410ca7-1af9-454e-92b2-5c80cec6300b"
      },
      "source": [
        "import matplotlib.pyplot as plt\n",
        "months = range(1,13)\n",
        "plt.bar(months ,results['Sales'])\n",
        "plt.xticks(months)\n",
        "plt.xlabel(\"Months\")\n",
        "plt.ylabel(\"Sales in USD $\")\n",
        "plt.grid()\n",
        "plt.show()\n",
        "# Dimensions : Months\n",
        "# Measures : Sales "
      ],
      "execution_count": 23,
      "outputs": [
        {
          "output_type": "display_data",
          "data": {
            "image/png": "[encoded data removed]",
            "text/plain": [
              "<Figure size 432x288 with 1 Axes>"
            ]
          },
          "metadata": {
            "needs_background": "light"
          }
        }
      ]
    },
    {
      "cell_type": "code",
      "metadata": {
        "colab": {
          "base_uri": "https://localhost:8080/"
        },
        "id": "rJH90GtbD0MJ",
        "outputId": "4d0c43d3-bd88-4a27-bda9-68e622deb9d4"
      },
      "source": [
        "results.median()"
      ],
      "execution_count": 24,
      "outputs": [
        {
          "output_type": "execute_result",
          "data": {
            "text/plain": [
              "Quantity Ordered      16538.500\n",
              "Price Each          2711873.695\n",
              "Sales               2727438.070\n",
              "dtype: float64"
            ]
          },
          "metadata": {},
          "execution_count": 24
        }
      ]
    },
    {
      "cell_type": "markdown",
      "metadata": {
        "id": "hwBnJztIEzPL"
      },
      "source": [
        "\n",
        "\n",
        "*   According to the bar chart it shows that the best month for sales is December with approximately 4 Billion $\n",
        "\n",
        "*   And the month with the lowest sales is January with less than 2 Billion $ \n",
        "\n",
        "*   Median of sales in the year 2019 is approxiamtly 2.8 Billion $\n",
        "\n",
        "\n"
      ]
    },
    {
      "cell_type": "markdown",
      "metadata": {
        "id": "nZLirTIMFVon"
      },
      "source": [
        "\n",
        "**Question 2: Which City sold the most products?**\n",
        "\n",
        "\n",
        "\n"
      ]
    },
    {
      "cell_type": "markdown",
      "metadata": {
        "id": "jmjXCJijJps4"
      },
      "source": [
        "\n",
        "\n",
        "> ▶Adding a City column by splitting the purchase address column\n",
        "\n"
      ]
    },
    {
      "cell_type": "code",
      "metadata": {
        "colab": {
          "base_uri": "https://localhost:8080/",
          "height": 206
        },
        "id": "XNbKnsCYGmrL",
        "outputId": "278cd483-e104-443d-c361-3df503162356"
      },
      "source": [
        "\n",
        "DataFrame['City'] = DataFrame['Purchase Address'].apply(lambda x: x.split(',')[1])\n",
        "DataFrame.head()"
      ],
      "execution_count": 25,
      "outputs": [
        {
          "output_type": "execute_result",
          "data": {
            "text/html": [
              "<div>\n",
              "<style scoped>\n",
              "    .dataframe tbody tr th:only-of-type {\n",
              "        vertical-align: middle;\n",
              "    }\n",
              "\n",
              "    .dataframe tbody tr th {\n",
              "        vertical-align: top;\n",
              "    }\n",
              "\n",
              "    .dataframe thead th {\n",
              "        text-align: right;\n",
              "    }\n",
              "</style>\n",
              "<table border=\"1\" class=\"dataframe\">\n",
              "  <thead>\n",
              "    <tr style=\"text-align: right;\">\n",
              "      <th></th>\n",
              "      <th>Order ID</th>\n",
              "      <th>Product</th>\n",
              "      <th>Quantity Ordered</th>\n",
              "      <th>Price Each</th>\n",
              "      <th>Order Date</th>\n",
              "      <th>Purchase Address</th>\n",
              "      <th>Month</th>\n",
              "      <th>Sales</th>\n",
              "      <th>City</th>\n",
              "    </tr>\n",
              "  </thead>\n",
              "  <tbody>\n",
              "    <tr>\n",
              "      <th>0</th>\n",
              "      <td>295665</td>\n",
              "      <td>Macbook Pro Laptop</td>\n",
              "      <td>1</td>\n",
              "      <td>1700.00</td>\n",
              "      <td>12/30/19 00:01</td>\n",
              "      <td>136 Church St, New York City, NY 10001</td>\n",
              "      <td>12</td>\n",
              "      <td>1700.00</td>\n",
              "      <td>New York City</td>\n",
              "    </tr>\n",
              "    <tr>\n",
              "      <th>1</th>\n",
              "      <td>295666</td>\n",
              "      <td>LG Washing Machine</td>\n",
              "      <td>1</td>\n",
              "      <td>600.00</td>\n",
              "      <td>12/29/19 07:03</td>\n",
              "      <td>562 2nd St, New York City, NY 10001</td>\n",
              "      <td>12</td>\n",
              "      <td>600.00</td>\n",
              "      <td>New York City</td>\n",
              "    </tr>\n",
              "    <tr>\n",
              "      <th>2</th>\n",
              "      <td>295667</td>\n",
              "      <td>USB-C Charging Cable</td>\n",
              "      <td>1</td>\n",
              "      <td>11.95</td>\n",
              "      <td>12/12/19 18:21</td>\n",
              "      <td>277 Main St, New York City, NY 10001</td>\n",
              "      <td>12</td>\n",
              "      <td>11.95</td>\n",
              "      <td>New York City</td>\n",
              "    </tr>\n",
              "    <tr>\n",
              "      <th>3</th>\n",
              "      <td>295668</td>\n",
              "      <td>27in FHD Monitor</td>\n",
              "      <td>1</td>\n",
              "      <td>149.99</td>\n",
              "      <td>12/22/19 15:13</td>\n",
              "      <td>410 6th St, San Francisco, CA 94016</td>\n",
              "      <td>12</td>\n",
              "      <td>149.99</td>\n",
              "      <td>San Francisco</td>\n",
              "    </tr>\n",
              "    <tr>\n",
              "      <th>4</th>\n",
              "      <td>295669</td>\n",
              "      <td>USB-C Charging Cable</td>\n",
              "      <td>1</td>\n",
              "      <td>11.95</td>\n",
              "      <td>12/18/19 12:38</td>\n",
              "      <td>43 Hill St, Atlanta, GA 30301</td>\n",
              "      <td>12</td>\n",
              "      <td>11.95</td>\n",
              "      <td>Atlanta</td>\n",
              "    </tr>\n",
              "  </tbody>\n",
              "</table>\n",
              "</div>"
            ],
            "text/plain": [
              "  Order ID               Product  ...    Sales            City\n",
              "0   295665    Macbook Pro Laptop  ...  1700.00   New York City\n",
              "1   295666    LG Washing Machine  ...   600.00   New York City\n",
              "2   295667  USB-C Charging Cable  ...    11.95   New York City\n",
              "3   295668      27in FHD Monitor  ...   149.99   San Francisco\n",
              "4   295669  USB-C Charging Cable  ...    11.95         Atlanta\n",
              "\n",
              "[5 rows x 9 columns]"
            ]
          },
          "metadata": {},
          "execution_count": 25
        }
      ]
    },
    {
      "cell_type": "code",
      "metadata": {
        "colab": {
          "base_uri": "https://localhost:8080/",
          "height": 363
        },
        "id": "MIj7wjTfG9u6",
        "outputId": "430aa514-05d1-44ba-9952-ca961ac0ad35"
      },
      "source": [
        "citySum = DataFrame.groupby('City').sum()\n",
        "citySum.head(10)\n",
        "# Groupping the data frame according to the City column"
      ],
      "execution_count": 26,
      "outputs": [
        {
          "output_type": "execute_result",
          "data": {
            "text/html": [
              "<div>\n",
              "<style scoped>\n",
              "    .dataframe tbody tr th:only-of-type {\n",
              "        vertical-align: middle;\n",
              "    }\n",
              "\n",
              "    .dataframe tbody tr th {\n",
              "        vertical-align: top;\n",
              "    }\n",
              "\n",
              "    .dataframe thead th {\n",
              "        text-align: right;\n",
              "    }\n",
              "</style>\n",
              "<table border=\"1\" class=\"dataframe\">\n",
              "  <thead>\n",
              "    <tr style=\"text-align: right;\">\n",
              "      <th></th>\n",
              "      <th>Quantity Ordered</th>\n",
              "      <th>Price Each</th>\n",
              "      <th>Month</th>\n",
              "      <th>Sales</th>\n",
              "    </tr>\n",
              "    <tr>\n",
              "      <th>City</th>\n",
              "      <th></th>\n",
              "      <th></th>\n",
              "      <th></th>\n",
              "      <th></th>\n",
              "    </tr>\n",
              "  </thead>\n",
              "  <tbody>\n",
              "    <tr>\n",
              "      <th>Atlanta</th>\n",
              "      <td>16602</td>\n",
              "      <td>2.779908e+06</td>\n",
              "      <td>104794</td>\n",
              "      <td>2.795499e+06</td>\n",
              "    </tr>\n",
              "    <tr>\n",
              "      <th>Austin</th>\n",
              "      <td>11153</td>\n",
              "      <td>1.809874e+06</td>\n",
              "      <td>69829</td>\n",
              "      <td>1.819582e+06</td>\n",
              "    </tr>\n",
              "    <tr>\n",
              "      <th>Boston</th>\n",
              "      <td>22528</td>\n",
              "      <td>3.637410e+06</td>\n",
              "      <td>141112</td>\n",
              "      <td>3.661642e+06</td>\n",
              "    </tr>\n",
              "    <tr>\n",
              "      <th>Dallas</th>\n",
              "      <td>16730</td>\n",
              "      <td>2.752628e+06</td>\n",
              "      <td>104620</td>\n",
              "      <td>2.767975e+06</td>\n",
              "    </tr>\n",
              "    <tr>\n",
              "      <th>Los Angeles</th>\n",
              "      <td>33289</td>\n",
              "      <td>5.421435e+06</td>\n",
              "      <td>208325</td>\n",
              "      <td>5.452571e+06</td>\n",
              "    </tr>\n",
              "    <tr>\n",
              "      <th>New York City</th>\n",
              "      <td>27932</td>\n",
              "      <td>4.635371e+06</td>\n",
              "      <td>175741</td>\n",
              "      <td>4.664317e+06</td>\n",
              "    </tr>\n",
              "    <tr>\n",
              "      <th>Portland</th>\n",
              "      <td>14053</td>\n",
              "      <td>2.307747e+06</td>\n",
              "      <td>87765</td>\n",
              "      <td>2.320491e+06</td>\n",
              "    </tr>\n",
              "    <tr>\n",
              "      <th>San Francisco</th>\n",
              "      <td>50239</td>\n",
              "      <td>8.211462e+06</td>\n",
              "      <td>315520</td>\n",
              "      <td>8.262204e+06</td>\n",
              "    </tr>\n",
              "    <tr>\n",
              "      <th>Seattle</th>\n",
              "      <td>16553</td>\n",
              "      <td>2.733296e+06</td>\n",
              "      <td>104941</td>\n",
              "      <td>2.747755e+06</td>\n",
              "    </tr>\n",
              "  </tbody>\n",
              "</table>\n",
              "</div>"
            ],
            "text/plain": [
              "                Quantity Ordered    Price Each   Month         Sales\n",
              "City                                                                \n",
              " Atlanta                   16602  2.779908e+06  104794  2.795499e+06\n",
              " Austin                    11153  1.809874e+06   69829  1.819582e+06\n",
              " Boston                    22528  3.637410e+06  141112  3.661642e+06\n",
              " Dallas                    16730  2.752628e+06  104620  2.767975e+06\n",
              " Los Angeles               33289  5.421435e+06  208325  5.452571e+06\n",
              " New York City             27932  4.635371e+06  175741  4.664317e+06\n",
              " Portland                  14053  2.307747e+06   87765  2.320491e+06\n",
              " San Francisco             50239  8.211462e+06  315520  8.262204e+06\n",
              " Seattle                   16553  2.733296e+06  104941  2.747755e+06"
            ]
          },
          "metadata": {},
          "execution_count": 26
        }
      ]
    },
    {
      "cell_type": "markdown",
      "metadata": {
        "id": "0JYsnsJCKcjH"
      },
      "source": [
        "\n",
        "\n",
        "> ▶ Plotting the results of the city with the largest sales\n",
        "\n"
      ]
    },
    {
      "cell_type": "code",
      "metadata": {
        "colab": {
          "base_uri": "https://localhost:8080/",
          "height": 338
        },
        "id": "U4AdD7BTLDtZ",
        "outputId": "8c943639-9e2d-4818-d9b7-7430c82e4961"
      },
      "source": [
        "import matplotlib.pyplot as plt\n",
        "# Grouping them according to the city so it gives us true consistency \n",
        "cities = [city for city, df in DataFrame.groupby('City')]\n",
        "plt.bar(cities ,citySum['Sales'],color = 'purple')\n",
        "plt.xticks(cities, rotation = 'vertical',size =8)\n",
        "plt.ylabel('Sales of the USA')\n",
        "plt.xlabel('City name')\n",
        "plt.grid()\n",
        "plt.show()"
      ],
      "execution_count": 27,
      "outputs": [
        {
          "output_type": "display_data",
          "data": {
            "image/png": "[encoded data removed]",
            "text/plain": [
              "<Figure size 432x288 with 1 Axes>"
            ]
          },
          "metadata": {
            "needs_background": "light"
          }
        }
      ]
    },
    {
      "cell_type": "code",
      "metadata": {
        "colab": {
          "base_uri": "https://localhost:8080/"
        },
        "id": "-GAEGV4oQgrM",
        "outputId": "4b1683ac-15b7-489a-f645-2b84353e3d90"
      },
      "source": [
        "citySum.median()"
      ],
      "execution_count": 28,
      "outputs": [
        {
          "output_type": "execute_result",
          "data": {
            "text/plain": [
              "Quantity Ordered      16730.00\n",
              "Price Each          2779908.20\n",
              "Month                104941.00\n",
              "Sales               2795498.58\n",
              "dtype: float64"
            ]
          },
          "metadata": {},
          "execution_count": 28
        }
      ]
    },
    {
      "cell_type": "markdown",
      "metadata": {
        "id": "_k86Npp5O_WA"
      },
      "source": [
        "\n",
        "\n",
        "*   As shown in the above plot, SanFrancisco is the city with the largest sales\n",
        "*   And the city with the lowest sales is Austin\n",
        "*   The city with an average sale is Atlanta\n",
        "\n",
        "\n",
        "\n"
      ]
    },
    {
      "cell_type": "markdown",
      "metadata": {
        "id": "nH-V4-kHRQ5q"
      },
      "source": [
        "**Question 3: What time is the best for purchasing products?**"
      ]
    },
    {
      "cell_type": "markdown",
      "metadata": {
        "id": "PRuSaX3fSBBb"
      },
      "source": [
        "\n",
        "\n",
        "> ▶Converting the Order Date to dateTime\n"
      ]
    },
    {
      "cell_type": "code",
      "metadata": {
        "colab": {
          "base_uri": "https://localhost:8080/"
        },
        "id": "gGrVpz0TNvsI",
        "outputId": "0b7a1f30-6d9f-46c1-91d4-c9176c0b6096"
      },
      "source": [
        "DataFrame['Order Date'] = pd.to_datetime(DataFrame['Order Date'])\n",
        "DataFrame.dtypes"
      ],
      "execution_count": 29,
      "outputs": [
        {
          "output_type": "execute_result",
          "data": {
            "text/plain": [
              "Order ID                    object\n",
              "Product                     object\n",
              "Quantity Ordered             int64\n",
              "Price Each                 float64\n",
              "Order Date          datetime64[ns]\n",
              "Purchase Address            object\n",
              "Month                        int32\n",
              "Sales                      float64\n",
              "City                        object\n",
              "dtype: object"
            ]
          },
          "metadata": {},
          "execution_count": 29
        }
      ]
    },
    {
      "cell_type": "code",
      "metadata": {
        "colab": {
          "base_uri": "https://localhost:8080/",
          "height": 206
        },
        "id": "9yyjYdBCNO32",
        "outputId": "d8167b7e-4a3a-41bb-a35b-af7ef68f6717"
      },
      "source": [
        "DataFrame.head()\n",
        "#We can now see the order date and timing"
      ],
      "execution_count": 30,
      "outputs": [
        {
          "output_type": "execute_result",
          "data": {
            "text/html": [
              "<div>\n",
              "<style scoped>\n",
              "    .dataframe tbody tr th:only-of-type {\n",
              "        vertical-align: middle;\n",
              "    }\n",
              "\n",
              "    .dataframe tbody tr th {\n",
              "        vertical-align: top;\n",
              "    }\n",
              "\n",
              "    .dataframe thead th {\n",
              "        text-align: right;\n",
              "    }\n",
              "</style>\n",
              "<table border=\"1\" class=\"dataframe\">\n",
              "  <thead>\n",
              "    <tr style=\"text-align: right;\">\n",
              "      <th></th>\n",
              "      <th>Order ID</th>\n",
              "      <th>Product</th>\n",
              "      <th>Quantity Ordered</th>\n",
              "      <th>Price Each</th>\n",
              "      <th>Order Date</th>\n",
              "      <th>Purchase Address</th>\n",
              "      <th>Month</th>\n",
              "      <th>Sales</th>\n",
              "      <th>City</th>\n",
              "    </tr>\n",
              "  </thead>\n",
              "  <tbody>\n",
              "    <tr>\n",
              "      <th>0</th>\n",
              "      <td>295665</td>\n",
              "      <td>Macbook Pro Laptop</td>\n",
              "      <td>1</td>\n",
              "      <td>1700.00</td>\n",
              "      <td>2019-12-30 00:01:00</td>\n",
              "      <td>136 Church St, New York City, NY 10001</td>\n",
              "      <td>12</td>\n",
              "      <td>1700.00</td>\n",
              "      <td>New York City</td>\n",
              "    </tr>\n",
              "    <tr>\n",
              "      <th>1</th>\n",
              "      <td>295666</td>\n",
              "      <td>LG Washing Machine</td>\n",
              "      <td>1</td>\n",
              "      <td>600.00</td>\n",
              "      <td>2019-12-29 07:03:00</td>\n",
              "      <td>562 2nd St, New York City, NY 10001</td>\n",
              "      <td>12</td>\n",
              "      <td>600.00</td>\n",
              "      <td>New York City</td>\n",
              "    </tr>\n",
              "    <tr>\n",
              "      <th>2</th>\n",
              "      <td>295667</td>\n",
              "      <td>USB-C Charging Cable</td>\n",
              "      <td>1</td>\n",
              "      <td>11.95</td>\n",
              "      <td>2019-12-12 18:21:00</td>\n",
              "      <td>277 Main St, New York City, NY 10001</td>\n",
              "      <td>12</td>\n",
              "      <td>11.95</td>\n",
              "      <td>New York City</td>\n",
              "    </tr>\n",
              "    <tr>\n",
              "      <th>3</th>\n",
              "      <td>295668</td>\n",
              "      <td>27in FHD Monitor</td>\n",
              "      <td>1</td>\n",
              "      <td>149.99</td>\n",
              "      <td>2019-12-22 15:13:00</td>\n",
              "      <td>410 6th St, San Francisco, CA 94016</td>\n",
              "      <td>12</td>\n",
              "      <td>149.99</td>\n",
              "      <td>San Francisco</td>\n",
              "    </tr>\n",
              "    <tr>\n",
              "      <th>4</th>\n",
              "      <td>295669</td>\n",
              "      <td>USB-C Charging Cable</td>\n",
              "      <td>1</td>\n",
              "      <td>11.95</td>\n",
              "      <td>2019-12-18 12:38:00</td>\n",
              "      <td>43 Hill St, Atlanta, GA 30301</td>\n",
              "      <td>12</td>\n",
              "      <td>11.95</td>\n",
              "      <td>Atlanta</td>\n",
              "    </tr>\n",
              "  </tbody>\n",
              "</table>\n",
              "</div>"
            ],
            "text/plain": [
              "  Order ID               Product  ...    Sales            City\n",
              "0   295665    Macbook Pro Laptop  ...  1700.00   New York City\n",
              "1   295666    LG Washing Machine  ...   600.00   New York City\n",
              "2   295667  USB-C Charging Cable  ...    11.95   New York City\n",
              "3   295668      27in FHD Monitor  ...   149.99   San Francisco\n",
              "4   295669  USB-C Charging Cable  ...    11.95         Atlanta\n",
              "\n",
              "[5 rows x 9 columns]"
            ]
          },
          "metadata": {},
          "execution_count": 30
        }
      ]
    },
    {
      "cell_type": "markdown",
      "metadata": {
        "id": "xt4zmQ7yStWB"
      },
      "source": [
        "\n",
        "\n",
        "> ▶Adding an Hour and minutes column \n",
        "\n"
      ]
    },
    {
      "cell_type": "code",
      "metadata": {
        "colab": {
          "base_uri": "https://localhost:8080/",
          "height": 206
        },
        "id": "mV0R8UBOOTOf",
        "outputId": "a857b03b-8e83-4afe-a43f-c80766b6e7bf"
      },
      "source": [
        "DataFrame['Hour'] = DataFrame['Order Date'].dt.hour\n",
        "DataFrame['Minutes'] = DataFrame['Order Date'].dt.minute\n",
        "DataFrame.head()"
      ],
      "execution_count": 31,
      "outputs": [
        {
          "output_type": "execute_result",
          "data": {
            "text/html": [
              "<div>\n",
              "<style scoped>\n",
              "    .dataframe tbody tr th:only-of-type {\n",
              "        vertical-align: middle;\n",
              "    }\n",
              "\n",
              "    .dataframe tbody tr th {\n",
              "        vertical-align: top;\n",
              "    }\n",
              "\n",
              "    .dataframe thead th {\n",
              "        text-align: right;\n",
              "    }\n",
              "</style>\n",
              "<table border=\"1\" class=\"dataframe\">\n",
              "  <thead>\n",
              "    <tr style=\"text-align: right;\">\n",
              "      <th></th>\n",
              "      <th>Order ID</th>\n",
              "      <th>Product</th>\n",
              "      <th>Quantity Ordered</th>\n",
              "      <th>Price Each</th>\n",
              "      <th>Order Date</th>\n",
              "      <th>Purchase Address</th>\n",
              "      <th>Month</th>\n",
              "      <th>Sales</th>\n",
              "      <th>City</th>\n",
              "      <th>Hour</th>\n",
              "      <th>Minutes</th>\n",
              "    </tr>\n",
              "  </thead>\n",
              "  <tbody>\n",
              "    <tr>\n",
              "      <th>0</th>\n",
              "      <td>295665</td>\n",
              "      <td>Macbook Pro Laptop</td>\n",
              "      <td>1</td>\n",
              "      <td>1700.00</td>\n",
              "      <td>2019-12-30 00:01:00</td>\n",
              "      <td>136 Church St, New York City, NY 10001</td>\n",
              "      <td>12</td>\n",
              "      <td>1700.00</td>\n",
              "      <td>New York City</td>\n",
              "      <td>0</td>\n",
              "      <td>1</td>\n",
              "    </tr>\n",
              "    <tr>\n",
              "      <th>1</th>\n",
              "      <td>295666</td>\n",
              "      <td>LG Washing Machine</td>\n",
              "      <td>1</td>\n",
              "      <td>600.00</td>\n",
              "      <td>2019-12-29 07:03:00</td>\n",
              "      <td>562 2nd St, New York City, NY 10001</td>\n",
              "      <td>12</td>\n",
              "      <td>600.00</td>\n",
              "      <td>New York City</td>\n",
              "      <td>7</td>\n",
              "      <td>3</td>\n",
              "    </tr>\n",
              "    <tr>\n",
              "      <th>2</th>\n",
              "      <td>295667</td>\n",
              "      <td>USB-C Charging Cable</td>\n",
              "      <td>1</td>\n",
              "      <td>11.95</td>\n",
              "      <td>2019-12-12 18:21:00</td>\n",
              "      <td>277 Main St, New York City, NY 10001</td>\n",
              "      <td>12</td>\n",
              "      <td>11.95</td>\n",
              "      <td>New York City</td>\n",
              "      <td>18</td>\n",
              "      <td>21</td>\n",
              "    </tr>\n",
              "    <tr>\n",
              "      <th>3</th>\n",
              "      <td>295668</td>\n",
              "      <td>27in FHD Monitor</td>\n",
              "      <td>1</td>\n",
              "      <td>149.99</td>\n",
              "      <td>2019-12-22 15:13:00</td>\n",
              "      <td>410 6th St, San Francisco, CA 94016</td>\n",
              "      <td>12</td>\n",
              "      <td>149.99</td>\n",
              "      <td>San Francisco</td>\n",
              "      <td>15</td>\n",
              "      <td>13</td>\n",
              "    </tr>\n",
              "    <tr>\n",
              "      <th>4</th>\n",
              "      <td>295669</td>\n",
              "      <td>USB-C Charging Cable</td>\n",
              "      <td>1</td>\n",
              "      <td>11.95</td>\n",
              "      <td>2019-12-18 12:38:00</td>\n",
              "      <td>43 Hill St, Atlanta, GA 30301</td>\n",
              "      <td>12</td>\n",
              "      <td>11.95</td>\n",
              "      <td>Atlanta</td>\n",
              "      <td>12</td>\n",
              "      <td>38</td>\n",
              "    </tr>\n",
              "  </tbody>\n",
              "</table>\n",
              "</div>"
            ],
            "text/plain": [
              "  Order ID               Product  ...  Hour  Minutes\n",
              "0   295665    Macbook Pro Laptop  ...     0        1\n",
              "1   295666    LG Washing Machine  ...     7        3\n",
              "2   295667  USB-C Charging Cable  ...    18       21\n",
              "3   295668      27in FHD Monitor  ...    15       13\n",
              "4   295669  USB-C Charging Cable  ...    12       38\n",
              "\n",
              "[5 rows x 11 columns]"
            ]
          },
          "metadata": {},
          "execution_count": 31
        }
      ]
    },
    {
      "cell_type": "markdown",
      "metadata": {
        "id": "XTAuigVaTPQR"
      },
      "source": [
        "\n",
        "\n",
        "> ▶Visualizing the plot of the best timing\n",
        "\n"
      ]
    },
    {
      "cell_type": "code",
      "metadata": {
        "colab": {
          "base_uri": "https://localhost:8080/",
          "height": 279
        },
        "id": "aEBHfzcJPPBf",
        "outputId": "b0efb054-e438-42f0-99d2-aa8e4c576a70"
      },
      "source": [
        "hours = [hour for hour, df in DataFrame.groupby('Hour')]\n",
        "# grouping and counting the rows by hour\n",
        "plt.plot(hours,DataFrame.groupby(['Hour']).count(), color = 'darkorange')\n",
        "plt.xticks(hours)\n",
        "plt.xlabel('Hours')\n",
        "plt.ylabel('Number of orders sold')\n",
        "plt.grid()\n",
        "plt.show()"
      ],
      "execution_count": 32,
      "outputs": [
        {
          "output_type": "display_data",
          "data": {
            "image/png": "[encoded data removed]",
            "text/plain": [
              "<Figure size 432x288 with 1 Axes>"
            ]
          },
          "metadata": {
            "needs_background": "light"
          }
        }
      ]
    },
    {
      "cell_type": "code",
      "metadata": {
        "id": "ApfxxK2oyV6f"
      },
      "source": [
        "DataFrame['Order Date'] = DataFrame['Order Date'].dt.year.astype('str') + '-' + DataFrame['Order Date'].dt.month.astype('str') + '-01'\n",
        "DataFrame['Order Date'] = pd.to_datetime(DataFrame['Order Date'])"
      ],
      "execution_count": 33,
      "outputs": []
    },
    {
      "cell_type": "code",
      "metadata": {
        "colab": {
          "base_uri": "https://localhost:8080/",
          "height": 457
        },
        "id": "1b28Vu6AT-S-",
        "outputId": "deb2a2eb-8faf-4bce-8679-68f849dc0c67"
      },
      "source": [
        "\n",
        "#groupby date and sum the sales\n",
        "DateFrame= DataFrame.groupby('Order Date').Sales.sum().reset_index()\n",
        "DateFrame\n"
      ],
      "execution_count": 34,
      "outputs": [
        {
          "output_type": "execute_result",
          "data": {
            "text/html": [
              "<div>\n",
              "<style scoped>\n",
              "    .dataframe tbody tr th:only-of-type {\n",
              "        vertical-align: middle;\n",
              "    }\n",
              "\n",
              "    .dataframe tbody tr th {\n",
              "        vertical-align: top;\n",
              "    }\n",
              "\n",
              "    .dataframe thead th {\n",
              "        text-align: right;\n",
              "    }\n",
              "</style>\n",
              "<table border=\"1\" class=\"dataframe\">\n",
              "  <thead>\n",
              "    <tr style=\"text-align: right;\">\n",
              "      <th></th>\n",
              "      <th>Order Date</th>\n",
              "      <th>Sales</th>\n",
              "    </tr>\n",
              "  </thead>\n",
              "  <tbody>\n",
              "    <tr>\n",
              "      <th>0</th>\n",
              "      <td>2019-01-01</td>\n",
              "      <td>1.813586e+06</td>\n",
              "    </tr>\n",
              "    <tr>\n",
              "      <th>1</th>\n",
              "      <td>2019-02-01</td>\n",
              "      <td>2.202022e+06</td>\n",
              "    </tr>\n",
              "    <tr>\n",
              "      <th>2</th>\n",
              "      <td>2019-03-01</td>\n",
              "      <td>2.807100e+06</td>\n",
              "    </tr>\n",
              "    <tr>\n",
              "      <th>3</th>\n",
              "      <td>2019-04-01</td>\n",
              "      <td>3.390670e+06</td>\n",
              "    </tr>\n",
              "    <tr>\n",
              "      <th>4</th>\n",
              "      <td>2019-05-01</td>\n",
              "      <td>3.152607e+06</td>\n",
              "    </tr>\n",
              "    <tr>\n",
              "      <th>5</th>\n",
              "      <td>2019-06-01</td>\n",
              "      <td>2.577802e+06</td>\n",
              "    </tr>\n",
              "    <tr>\n",
              "      <th>6</th>\n",
              "      <td>2019-07-01</td>\n",
              "      <td>2.647776e+06</td>\n",
              "    </tr>\n",
              "    <tr>\n",
              "      <th>7</th>\n",
              "      <td>2019-08-01</td>\n",
              "      <td>2.244468e+06</td>\n",
              "    </tr>\n",
              "    <tr>\n",
              "      <th>8</th>\n",
              "      <td>2019-09-01</td>\n",
              "      <td>2.097560e+06</td>\n",
              "    </tr>\n",
              "    <tr>\n",
              "      <th>9</th>\n",
              "      <td>2019-10-01</td>\n",
              "      <td>3.736727e+06</td>\n",
              "    </tr>\n",
              "    <tr>\n",
              "      <th>10</th>\n",
              "      <td>2019-11-01</td>\n",
              "      <td>3.199603e+06</td>\n",
              "    </tr>\n",
              "    <tr>\n",
              "      <th>11</th>\n",
              "      <td>2019-12-01</td>\n",
              "      <td>4.613443e+06</td>\n",
              "    </tr>\n",
              "    <tr>\n",
              "      <th>12</th>\n",
              "      <td>2020-01-01</td>\n",
              "      <td>8.670290e+03</td>\n",
              "    </tr>\n",
              "  </tbody>\n",
              "</table>\n",
              "</div>"
            ],
            "text/plain": [
              "   Order Date         Sales\n",
              "0  2019-01-01  1.813586e+06\n",
              "1  2019-02-01  2.202022e+06\n",
              "2  2019-03-01  2.807100e+06\n",
              "3  2019-04-01  3.390670e+06\n",
              "4  2019-05-01  3.152607e+06\n",
              "5  2019-06-01  2.577802e+06\n",
              "6  2019-07-01  2.647776e+06\n",
              "7  2019-08-01  2.244468e+06\n",
              "8  2019-09-01  2.097560e+06\n",
              "9  2019-10-01  3.736727e+06\n",
              "10 2019-11-01  3.199603e+06\n",
              "11 2019-12-01  4.613443e+06\n",
              "12 2020-01-01  8.670290e+03"
            ]
          },
          "metadata": {},
          "execution_count": 34
        }
      ]
    },
    {
      "cell_type": "markdown",
      "metadata": {
        "id": "imbyEa96UZ9R"
      },
      "source": [
        "\n",
        "\n",
        "*   The plot shows 2 peaks in a 24 hour\n",
        "*   Around 11 am to 12 pm \n",
        "*   And around 6 to 7 pm are the best timings for purchasing products\n",
        "\n",
        "\n",
        "\n"
      ]
    },
    {
      "cell_type": "markdown",
      "metadata": {
        "id": "3Efd2SbqVOS4"
      },
      "source": [
        "\n",
        "\n",
        "**Question 4: What are the most purchased products together?**\n",
        "\n"
      ]
    },
    {
      "cell_type": "markdown",
      "metadata": {
        "id": "gnORuTfjVqPp"
      },
      "source": [
        "\n",
        "\n",
        "> ▶Displaying the duplicated order ID's\n",
        "\n"
      ]
    },
    {
      "cell_type": "code",
      "metadata": {
        "colab": {
          "base_uri": "https://localhost:8080/",
          "height": 363
        },
        "id": "lU4QHH63YHDm",
        "outputId": "7862a20d-92f6-4a5a-e975-c757349e0abd"
      },
      "source": [
        "DataFrame = DataFrame[DataFrame['Order ID'].duplicated(keep = False)]\n",
        "DataFrame.head(10)\n",
        "#we can see the products that are most sold together from the order ID's that are duplicated and sent to the same address "
      ],
      "execution_count": 35,
      "outputs": [
        {
          "output_type": "execute_result",
          "data": {
            "text/html": [
              "<div>\n",
              "<style scoped>\n",
              "    .dataframe tbody tr th:only-of-type {\n",
              "        vertical-align: middle;\n",
              "    }\n",
              "\n",
              "    .dataframe tbody tr th {\n",
              "        vertical-align: top;\n",
              "    }\n",
              "\n",
              "    .dataframe thead th {\n",
              "        text-align: right;\n",
              "    }\n",
              "</style>\n",
              "<table border=\"1\" class=\"dataframe\">\n",
              "  <thead>\n",
              "    <tr style=\"text-align: right;\">\n",
              "      <th></th>\n",
              "      <th>Order ID</th>\n",
              "      <th>Product</th>\n",
              "      <th>Quantity Ordered</th>\n",
              "      <th>Price Each</th>\n",
              "      <th>Order Date</th>\n",
              "      <th>Purchase Address</th>\n",
              "      <th>Month</th>\n",
              "      <th>Sales</th>\n",
              "      <th>City</th>\n",
              "      <th>Hour</th>\n",
              "      <th>Minutes</th>\n",
              "    </tr>\n",
              "  </thead>\n",
              "  <tbody>\n",
              "    <tr>\n",
              "      <th>16</th>\n",
              "      <td>295681</td>\n",
              "      <td>Google Phone</td>\n",
              "      <td>1</td>\n",
              "      <td>600.00</td>\n",
              "      <td>2019-12-01</td>\n",
              "      <td>79 Elm St, Boston, MA 02215</td>\n",
              "      <td>12</td>\n",
              "      <td>600.00</td>\n",
              "      <td>Boston</td>\n",
              "      <td>12</td>\n",
              "      <td>37</td>\n",
              "    </tr>\n",
              "    <tr>\n",
              "      <th>17</th>\n",
              "      <td>295681</td>\n",
              "      <td>USB-C Charging Cable</td>\n",
              "      <td>1</td>\n",
              "      <td>11.95</td>\n",
              "      <td>2019-12-01</td>\n",
              "      <td>79 Elm St, Boston, MA 02215</td>\n",
              "      <td>12</td>\n",
              "      <td>11.95</td>\n",
              "      <td>Boston</td>\n",
              "      <td>12</td>\n",
              "      <td>37</td>\n",
              "    </tr>\n",
              "    <tr>\n",
              "      <th>18</th>\n",
              "      <td>295681</td>\n",
              "      <td>Bose SoundSport Headphones</td>\n",
              "      <td>1</td>\n",
              "      <td>99.99</td>\n",
              "      <td>2019-12-01</td>\n",
              "      <td>79 Elm St, Boston, MA 02215</td>\n",
              "      <td>12</td>\n",
              "      <td>99.99</td>\n",
              "      <td>Boston</td>\n",
              "      <td>12</td>\n",
              "      <td>37</td>\n",
              "    </tr>\n",
              "    <tr>\n",
              "      <th>19</th>\n",
              "      <td>295681</td>\n",
              "      <td>Wired Headphones</td>\n",
              "      <td>1</td>\n",
              "      <td>11.99</td>\n",
              "      <td>2019-12-01</td>\n",
              "      <td>79 Elm St, Boston, MA 02215</td>\n",
              "      <td>12</td>\n",
              "      <td>11.99</td>\n",
              "      <td>Boston</td>\n",
              "      <td>12</td>\n",
              "      <td>37</td>\n",
              "    </tr>\n",
              "    <tr>\n",
              "      <th>36</th>\n",
              "      <td>295698</td>\n",
              "      <td>Vareebadd Phone</td>\n",
              "      <td>1</td>\n",
              "      <td>400.00</td>\n",
              "      <td>2019-12-01</td>\n",
              "      <td>175 1st St, New York City, NY 10001</td>\n",
              "      <td>12</td>\n",
              "      <td>400.00</td>\n",
              "      <td>New York City</td>\n",
              "      <td>14</td>\n",
              "      <td>32</td>\n",
              "    </tr>\n",
              "    <tr>\n",
              "      <th>37</th>\n",
              "      <td>295698</td>\n",
              "      <td>USB-C Charging Cable</td>\n",
              "      <td>2</td>\n",
              "      <td>11.95</td>\n",
              "      <td>2019-12-01</td>\n",
              "      <td>175 1st St, New York City, NY 10001</td>\n",
              "      <td>12</td>\n",
              "      <td>23.90</td>\n",
              "      <td>New York City</td>\n",
              "      <td>14</td>\n",
              "      <td>32</td>\n",
              "    </tr>\n",
              "    <tr>\n",
              "      <th>42</th>\n",
              "      <td>295703</td>\n",
              "      <td>AA Batteries (4-pack)</td>\n",
              "      <td>1</td>\n",
              "      <td>3.84</td>\n",
              "      <td>2019-12-01</td>\n",
              "      <td>502 Jefferson St, Austin, TX 73301</td>\n",
              "      <td>12</td>\n",
              "      <td>3.84</td>\n",
              "      <td>Austin</td>\n",
              "      <td>12</td>\n",
              "      <td>27</td>\n",
              "    </tr>\n",
              "    <tr>\n",
              "      <th>43</th>\n",
              "      <td>295703</td>\n",
              "      <td>Bose SoundSport Headphones</td>\n",
              "      <td>1</td>\n",
              "      <td>99.99</td>\n",
              "      <td>2019-12-01</td>\n",
              "      <td>502 Jefferson St, Austin, TX 73301</td>\n",
              "      <td>12</td>\n",
              "      <td>99.99</td>\n",
              "      <td>Austin</td>\n",
              "      <td>12</td>\n",
              "      <td>27</td>\n",
              "    </tr>\n",
              "    <tr>\n",
              "      <th>66</th>\n",
              "      <td>295726</td>\n",
              "      <td>iPhone</td>\n",
              "      <td>1</td>\n",
              "      <td>700.00</td>\n",
              "      <td>2019-12-01</td>\n",
              "      <td>203 Lakeview St, Boston, MA 02215</td>\n",
              "      <td>12</td>\n",
              "      <td>700.00</td>\n",
              "      <td>Boston</td>\n",
              "      <td>14</td>\n",
              "      <td>49</td>\n",
              "    </tr>\n",
              "    <tr>\n",
              "      <th>67</th>\n",
              "      <td>295726</td>\n",
              "      <td>Lightning Charging Cable</td>\n",
              "      <td>1</td>\n",
              "      <td>14.95</td>\n",
              "      <td>2019-12-01</td>\n",
              "      <td>203 Lakeview St, Boston, MA 02215</td>\n",
              "      <td>12</td>\n",
              "      <td>14.95</td>\n",
              "      <td>Boston</td>\n",
              "      <td>14</td>\n",
              "      <td>49</td>\n",
              "    </tr>\n",
              "  </tbody>\n",
              "</table>\n",
              "</div>"
            ],
            "text/plain": [
              "   Order ID                     Product  ...  Hour  Minutes\n",
              "16   295681                Google Phone  ...    12       37\n",
              "17   295681        USB-C Charging Cable  ...    12       37\n",
              "18   295681  Bose SoundSport Headphones  ...    12       37\n",
              "19   295681            Wired Headphones  ...    12       37\n",
              "36   295698             Vareebadd Phone  ...    14       32\n",
              "37   295698        USB-C Charging Cable  ...    14       32\n",
              "42   295703       AA Batteries (4-pack)  ...    12       27\n",
              "43   295703  Bose SoundSport Headphones  ...    12       27\n",
              "66   295726                      iPhone  ...    14       49\n",
              "67   295726    Lightning Charging Cable  ...    14       49\n",
              "\n",
              "[10 rows x 11 columns]"
            ]
          },
          "metadata": {},
          "execution_count": 35
        }
      ]
    },
    {
      "cell_type": "code",
      "metadata": {
        "id": "PcLFuNg6_r_c"
      },
      "source": [
        "DataFrame['Month'] = DataFrame['Order Date'].apply(lambda x: x.strftime('%Y-%m'))\n"
      ],
      "execution_count": 36,
      "outputs": []
    },
    {
      "cell_type": "code",
      "metadata": {
        "id": "osHWvSXc_unO"
      },
      "source": [
        "Trend = DataFrame.groupby('Month').sum()['Sales'].reset_index()\n"
      ],
      "execution_count": 37,
      "outputs": []
    },
    {
      "cell_type": "code",
      "metadata": {
        "colab": {
          "base_uri": "https://localhost:8080/"
        },
        "id": "V7g8IP-__wlT",
        "outputId": "daeec5e4-a4b1-41b9-d159-87d69928071c"
      },
      "source": [
        "DataFrame.dtypes"
      ],
      "execution_count": 38,
      "outputs": [
        {
          "output_type": "execute_result",
          "data": {
            "text/plain": [
              "Order ID                    object\n",
              "Product                     object\n",
              "Quantity Ordered             int64\n",
              "Price Each                 float64\n",
              "Order Date          datetime64[ns]\n",
              "Purchase Address            object\n",
              "Month                       object\n",
              "Sales                      float64\n",
              "City                        object\n",
              "Hour                         int64\n",
              "Minutes                      int64\n",
              "dtype: object"
            ]
          },
          "metadata": {},
          "execution_count": 38
        }
      ]
    },
    {
      "cell_type": "code",
      "metadata": {
        "id": "yz6Kb8x-h5be",
        "colab": {
          "base_uri": "https://localhost:8080/",
          "height": 313
        },
        "outputId": "891e3424-6e89-4250-8477-c8fade2c8499"
      },
      "source": [
        "\n",
        "plt.plot(Trend['Month'],Trend['Sales'], color = 'green')\n",
        "plt.xticks(rotation = 'vertical',size = 10)\n",
        "plt.xlabel('Month and Year')\n",
        "plt.ylabel('Sales in USD')\n",
        "plt.show()"
      ],
      "execution_count": 39,
      "outputs": [
        {
          "output_type": "display_data",
          "data": {
            "image/png": "[encoded data removed]",
            "text/plain": [
              "<Figure size 432x288 with 1 Axes>"
            ]
          },
          "metadata": {
            "needs_background": "light"
          }
        }
      ]
    },
    {
      "cell_type": "markdown",
      "metadata": {
        "id": "jN_Fwe4sYfQ_"
      },
      "source": [
        "**Question 5: What Product is sold the most?**"
      ]
    },
    {
      "cell_type": "markdown",
      "metadata": {
        "id": "b8uOhXr_Yoj8"
      },
      "source": [
        "\n",
        "\n",
        "> ▶Plotting the chart according to the price and products\n",
        "\n"
      ]
    },
    {
      "cell_type": "code",
      "metadata": {
        "id": "XytR4gQZcsP9"
      },
      "source": [
        "products = DataFrame.groupby('Product')\n",
        "Quantity = products.sum()['Quantity Ordered']\n",
        "products = [product for product, df in products ]"
      ],
      "execution_count": 40,
      "outputs": []
    },
    {
      "cell_type": "code",
      "metadata": {
        "id": "M_yySuoLuWlE",
        "colab": {
          "base_uri": "https://localhost:8080/"
        },
        "outputId": "bffb3c76-3c4d-4400-eb3a-156581445362"
      },
      "source": [
        "prices = DataFrame.groupby('Product').mean()['Price Each']\n",
        "prices"
      ],
      "execution_count": 41,
      "outputs": [
        {
          "output_type": "execute_result",
          "data": {
            "text/plain": [
              "Product\n",
              "20in Monitor                   109.99\n",
              "27in 4K Gaming Monitor         389.99\n",
              "27in FHD Monitor               149.99\n",
              "34in Ultrawide Monitor         379.99\n",
              "AA Batteries (4-pack)            3.84\n",
              "AAA Batteries (4-pack)           2.99\n",
              "Apple Airpods Headphones       150.00\n",
              "Bose SoundSport Headphones      99.99\n",
              "Flatscreen TV                  300.00\n",
              "Google Phone                   600.00\n",
              "LG Dryer                       600.00\n",
              "LG Washing Machine             600.00\n",
              "Lightning Charging Cable        14.95\n",
              "Macbook Pro Laptop            1700.00\n",
              "ThinkPad Laptop                999.99\n",
              "USB-C Charging Cable            11.95\n",
              "Vareebadd Phone                400.00\n",
              "Wired Headphones                11.99\n",
              "iPhone                         700.00\n",
              "Name: Price Each, dtype: float64"
            ]
          },
          "metadata": {},
          "execution_count": 41
        }
      ]
    },
    {
      "cell_type": "code",
      "metadata": {
        "colab": {
          "base_uri": "https://localhost:8080/",
          "height": 420
        },
        "id": "8PXVPGfdtvPV",
        "outputId": "ebd29c29-d0a5-45b6-ef42-2619ebae5bec"
      },
      "source": [
        "fig, ax = plt.subplots()\n",
        "ax2 = ax.twinx()\n",
        "ax.bar(products,Quantity,color = 'darkblue')\n",
        "ax2.plot(products,prices,color = 'red')\n",
        "ax.set_xlabel('Product')\n",
        "ax.set_ylabel('Quantity') \n",
        "ax.set_xticklabels(products, rotation ='vertical',size = 10 )\n",
        "ax2.set_ylabel('Price',color = 'red')\n",
        "plt.grid()\n",
        "plt.show()"
      ],
      "execution_count": 42,
      "outputs": [
        {
          "output_type": "display_data",
          "data": {
            "image/png": "[encoded data removed]",
            "text/plain": [
              "<Figure size 432x288 with 2 Axes>"
            ]
          },
          "metadata": {
            "needs_background": "light"
          }
        }
      ]
    },
    {
      "cell_type": "markdown",
      "metadata": {
        "id": "BNdDb6JaZP_Z"
      },
      "source": [
        "\n",
        "\n",
        "*   Most sold product is the USB-C Charging cable and the Lightning Charging Cable\n",
        "*   You can notice from the chart above that the products that are sold the most are low in price and are mostly cables\n",
        "\n"
      ]
    },
    {
      "cell_type": "markdown",
      "metadata": {
        "id": "uu4_NSOpxInv"
      },
      "source": [
        "# **Machine Learning Algorithm and Train & Test**\n",
        "\n",
        "\n",
        "\n",
        "---\n",
        "\n",
        "\n",
        "\n",
        "\n"
      ]
    },
    {
      "cell_type": "code",
      "metadata": {
        "id": "uT4VZ_8fZyGA"
      },
      "source": [
        "import seaborn as sns\n",
        "import matplotlib as plt\n",
        "import matplotlib.pyplot as plt "
      ],
      "execution_count": 45,
      "outputs": []
    },
    {
      "cell_type": "code",
      "metadata": {
        "colab": {
          "base_uri": "https://localhost:8080/",
          "height": 285
        },
        "id": "KSYV8uyRZ1kY",
        "outputId": "69237b2e-5edb-47eb-9948-b70178e0a4aa"
      },
      "source": [
        "DataFrame.plot.hist(y='Sales')"
      ],
      "execution_count": 46,
      "outputs": [
        {
          "output_type": "execute_result",
          "data": {
            "text/plain": [
              "<matplotlib.axes._subplots.AxesSubplot at 0x7f7aec10c510>"
            ]
          },
          "metadata": {},
          "execution_count": 46
        },
        {
          "output_type": "display_data",
          "data": {
            "image/png": "[encoded data removed]",
            "text/plain": [
              "<Figure size 432x288 with 1 Axes>"
            ]
          },
          "metadata": {
            "needs_background": "light"
          }
        }
      ]
    },
    {
      "cell_type": "code",
      "metadata": {
        "colab": {
          "base_uri": "https://localhost:8080/",
          "height": 353
        },
        "id": "D1jlpef7Z2Pd",
        "outputId": "e1e89e0d-0db1-447b-931a-5653eaf10689"
      },
      "source": [
        "sns.distplot(DataFrame['Sales'])"
      ],
      "execution_count": 47,
      "outputs": [
        {
          "output_type": "stream",
          "name": "stderr",
          "text": [
            "/usr/local/lib/python3.7/dist-packages/seaborn/distributions.py:2619: FutureWarning: `distplot` is a deprecated function and will be removed in a future version. Please adapt your code to use either `displot` (a figure-level function with similar flexibility) or `histplot` (an axes-level function for histograms).\n",
            "  warnings.warn(msg, FutureWarning)\n"
          ]
        },
        {
          "output_type": "execute_result",
          "data": {
            "text/plain": [
              "<matplotlib.axes._subplots.AxesSubplot at 0x7f7aebffa2d0>"
            ]
          },
          "metadata": {},
          "execution_count": 47
        },
        {
          "output_type": "display_data",
          "data": {
            "image/png": "[encoded data removed]",
            "text/plain": [
              "<Figure size 432x288 with 1 Axes>"
            ]
          },
          "metadata": {
            "needs_background": "light"
          }
        }
      ]
    },
    {
      "cell_type": "code",
      "metadata": {
        "colab": {
          "base_uri": "https://localhost:8080/",
          "height": 455
        },
        "id": "SquIVgcIBcgD",
        "outputId": "1ec21614-9af3-4b58-bd5c-1d54fd8b3f5f"
      },
      "source": [
        "# Set the data column as an index of the dataframe\n",
        "DataFrame= DataFrame.set_index('Order Date')\n",
        "DataFrame\n"
      ],
      "execution_count": 48,
      "outputs": [
        {
          "output_type": "execute_result",
          "data": {
            "text/html": [
              "<div>\n",
              "<style scoped>\n",
              "    .dataframe tbody tr th:only-of-type {\n",
              "        vertical-align: middle;\n",
              "    }\n",
              "\n",
              "    .dataframe tbody tr th {\n",
              "        vertical-align: top;\n",
              "    }\n",
              "\n",
              "    .dataframe thead th {\n",
              "        text-align: right;\n",
              "    }\n",
              "</style>\n",
              "<table border=\"1\" class=\"dataframe\">\n",
              "  <thead>\n",
              "    <tr style=\"text-align: right;\">\n",
              "      <th></th>\n",
              "      <th>Order ID</th>\n",
              "      <th>Product</th>\n",
              "      <th>Quantity Ordered</th>\n",
              "      <th>Price Each</th>\n",
              "      <th>Purchase Address</th>\n",
              "      <th>Month</th>\n",
              "      <th>Sales</th>\n",
              "      <th>City</th>\n",
              "      <th>Hour</th>\n",
              "      <th>Minutes</th>\n",
              "    </tr>\n",
              "    <tr>\n",
              "      <th>Order Date</th>\n",
              "      <th></th>\n",
              "      <th></th>\n",
              "      <th></th>\n",
              "      <th></th>\n",
              "      <th></th>\n",
              "      <th></th>\n",
              "      <th></th>\n",
              "      <th></th>\n",
              "      <th></th>\n",
              "      <th></th>\n",
              "    </tr>\n",
              "  </thead>\n",
              "  <tbody>\n",
              "    <tr>\n",
              "      <th>2019-12-01</th>\n",
              "      <td>295681</td>\n",
              "      <td>Google Phone</td>\n",
              "      <td>1</td>\n",
              "      <td>600.00</td>\n",
              "      <td>79 Elm St, Boston, MA 02215</td>\n",
              "      <td>2019-12</td>\n",
              "      <td>600.00</td>\n",
              "      <td>Boston</td>\n",
              "      <td>12</td>\n",
              "      <td>37</td>\n",
              "    </tr>\n",
              "    <tr>\n",
              "      <th>2019-12-01</th>\n",
              "      <td>295681</td>\n",
              "      <td>USB-C Charging Cable</td>\n",
              "      <td>1</td>\n",
              "      <td>11.95</td>\n",
              "      <td>79 Elm St, Boston, MA 02215</td>\n",
              "      <td>2019-12</td>\n",
              "      <td>11.95</td>\n",
              "      <td>Boston</td>\n",
              "      <td>12</td>\n",
              "      <td>37</td>\n",
              "    </tr>\n",
              "    <tr>\n",
              "      <th>2019-12-01</th>\n",
              "      <td>295681</td>\n",
              "      <td>Bose SoundSport Headphones</td>\n",
              "      <td>1</td>\n",
              "      <td>99.99</td>\n",
              "      <td>79 Elm St, Boston, MA 02215</td>\n",
              "      <td>2019-12</td>\n",
              "      <td>99.99</td>\n",
              "      <td>Boston</td>\n",
              "      <td>12</td>\n",
              "      <td>37</td>\n",
              "    </tr>\n",
              "    <tr>\n",
              "      <th>2019-12-01</th>\n",
              "      <td>295681</td>\n",
              "      <td>Wired Headphones</td>\n",
              "      <td>1</td>\n",
              "      <td>11.99</td>\n",
              "      <td>79 Elm St, Boston, MA 02215</td>\n",
              "      <td>2019-12</td>\n",
              "      <td>11.99</td>\n",
              "      <td>Boston</td>\n",
              "      <td>12</td>\n",
              "      <td>37</td>\n",
              "    </tr>\n",
              "    <tr>\n",
              "      <th>2019-12-01</th>\n",
              "      <td>295698</td>\n",
              "      <td>Vareebadd Phone</td>\n",
              "      <td>1</td>\n",
              "      <td>400.00</td>\n",
              "      <td>175 1st St, New York City, NY 10001</td>\n",
              "      <td>2019-12</td>\n",
              "      <td>400.00</td>\n",
              "      <td>New York City</td>\n",
              "      <td>14</td>\n",
              "      <td>32</td>\n",
              "    </tr>\n",
              "    <tr>\n",
              "      <th>...</th>\n",
              "      <td>...</td>\n",
              "      <td>...</td>\n",
              "      <td>...</td>\n",
              "      <td>...</td>\n",
              "      <td>...</td>\n",
              "      <td>...</td>\n",
              "      <td>...</td>\n",
              "      <td>...</td>\n",
              "      <td>...</td>\n",
              "      <td>...</td>\n",
              "    </tr>\n",
              "    <tr>\n",
              "      <th>2019-11-01</th>\n",
              "      <td>295526</td>\n",
              "      <td>27in FHD Monitor</td>\n",
              "      <td>1</td>\n",
              "      <td>149.99</td>\n",
              "      <td>550 Park St, Dallas, TX 75001</td>\n",
              "      <td>2019-11</td>\n",
              "      <td>149.99</td>\n",
              "      <td>Dallas</td>\n",
              "      <td>11</td>\n",
              "      <td>26</td>\n",
              "    </tr>\n",
              "    <tr>\n",
              "      <th>2019-11-01</th>\n",
              "      <td>295534</td>\n",
              "      <td>Google Phone</td>\n",
              "      <td>1</td>\n",
              "      <td>600.00</td>\n",
              "      <td>22 Pine St, Boston, MA 02215</td>\n",
              "      <td>2019-11</td>\n",
              "      <td>600.00</td>\n",
              "      <td>Boston</td>\n",
              "      <td>19</td>\n",
              "      <td>21</td>\n",
              "    </tr>\n",
              "    <tr>\n",
              "      <th>2019-11-01</th>\n",
              "      <td>295534</td>\n",
              "      <td>USB-C Charging Cable</td>\n",
              "      <td>1</td>\n",
              "      <td>11.95</td>\n",
              "      <td>22 Pine St, Boston, MA 02215</td>\n",
              "      <td>2019-11</td>\n",
              "      <td>11.95</td>\n",
              "      <td>Boston</td>\n",
              "      <td>19</td>\n",
              "      <td>21</td>\n",
              "    </tr>\n",
              "    <tr>\n",
              "      <th>2019-11-01</th>\n",
              "      <td>295599</td>\n",
              "      <td>iPhone</td>\n",
              "      <td>1</td>\n",
              "      <td>700.00</td>\n",
              "      <td>258 Ridge St, New York City, NY 10001</td>\n",
              "      <td>2019-11</td>\n",
              "      <td>700.00</td>\n",
              "      <td>New York City</td>\n",
              "      <td>21</td>\n",
              "      <td>17</td>\n",
              "    </tr>\n",
              "    <tr>\n",
              "      <th>2019-11-01</th>\n",
              "      <td>295599</td>\n",
              "      <td>Apple Airpods Headphones</td>\n",
              "      <td>1</td>\n",
              "      <td>150.00</td>\n",
              "      <td>258 Ridge St, New York City, NY 10001</td>\n",
              "      <td>2019-11</td>\n",
              "      <td>150.00</td>\n",
              "      <td>New York City</td>\n",
              "      <td>21</td>\n",
              "      <td>17</td>\n",
              "    </tr>\n",
              "  </tbody>\n",
              "</table>\n",
              "<p>14649 rows × 10 columns</p>\n",
              "</div>"
            ],
            "text/plain": [
              "           Order ID                     Product  ...  Hour  Minutes\n",
              "Order Date                                       ...               \n",
              "2019-12-01   295681                Google Phone  ...    12       37\n",
              "2019-12-01   295681        USB-C Charging Cable  ...    12       37\n",
              "2019-12-01   295681  Bose SoundSport Headphones  ...    12       37\n",
              "2019-12-01   295681            Wired Headphones  ...    12       37\n",
              "2019-12-01   295698             Vareebadd Phone  ...    14       32\n",
              "...             ...                         ...  ...   ...      ...\n",
              "2019-11-01   295526            27in FHD Monitor  ...    11       26\n",
              "2019-11-01   295534                Google Phone  ...    19       21\n",
              "2019-11-01   295534        USB-C Charging Cable  ...    19       21\n",
              "2019-11-01   295599                      iPhone  ...    21       17\n",
              "2019-11-01   295599    Apple Airpods Headphones  ...    21       17\n",
              "\n",
              "[14649 rows x 10 columns]"
            ]
          },
          "metadata": {},
          "execution_count": 48
        }
      ]
    },
    {
      "cell_type": "code",
      "metadata": {
        "colab": {
          "base_uri": "https://localhost:8080/"
        },
        "id": "yj-0ASL4YqEG",
        "outputId": "c86ee06b-a8b9-43f6-98ed-95e53cf93b83"
      },
      "source": [
        "DataFrame.dtypes"
      ],
      "execution_count": 49,
      "outputs": [
        {
          "output_type": "execute_result",
          "data": {
            "text/plain": [
              "Order ID             object\n",
              "Product              object\n",
              "Quantity Ordered      int64\n",
              "Price Each          float64\n",
              "Purchase Address     object\n",
              "Month                object\n",
              "Sales               float64\n",
              "City                 object\n",
              "Hour                  int64\n",
              "Minutes               int64\n",
              "dtype: object"
            ]
          },
          "metadata": {},
          "execution_count": 49
        }
      ]
    },
    {
      "cell_type": "code",
      "metadata": {
        "colab": {
          "base_uri": "https://localhost:8080/",
          "height": 488
        },
        "id": "_w-aOcCPC5GX",
        "outputId": "cca31c00-fdfa-4419-fabd-7334d16abae3"
      },
      "source": [
        "# Resample to weekly frequency, aggregating with mean\n",
        "columns = ['Sales','Quantity Ordered','Price Each']\n",
        "df_monthly_mean =DataFrame[columns].resample('M').mean()\n",
        "df_monthly_mean.head(20)"
      ],
      "execution_count": 50,
      "outputs": [
        {
          "output_type": "execute_result",
          "data": {
            "text/html": [
              "<div>\n",
              "<style scoped>\n",
              "    .dataframe tbody tr th:only-of-type {\n",
              "        vertical-align: middle;\n",
              "    }\n",
              "\n",
              "    .dataframe tbody tr th {\n",
              "        vertical-align: top;\n",
              "    }\n",
              "\n",
              "    .dataframe thead th {\n",
              "        text-align: right;\n",
              "    }\n",
              "</style>\n",
              "<table border=\"1\" class=\"dataframe\">\n",
              "  <thead>\n",
              "    <tr style=\"text-align: right;\">\n",
              "      <th></th>\n",
              "      <th>Sales</th>\n",
              "      <th>Quantity Ordered</th>\n",
              "      <th>Price Each</th>\n",
              "    </tr>\n",
              "    <tr>\n",
              "      <th>Order Date</th>\n",
              "      <th></th>\n",
              "      <th></th>\n",
              "      <th></th>\n",
              "    </tr>\n",
              "  </thead>\n",
              "  <tbody>\n",
              "    <tr>\n",
              "      <th>2019-01-31</th>\n",
              "      <td>248.546888</td>\n",
              "      <td>1.075000</td>\n",
              "      <td>247.023650</td>\n",
              "    </tr>\n",
              "    <tr>\n",
              "      <th>2019-02-28</th>\n",
              "      <td>263.054548</td>\n",
              "      <td>1.073118</td>\n",
              "      <td>261.208366</td>\n",
              "    </tr>\n",
              "    <tr>\n",
              "      <th>2019-03-31</th>\n",
              "      <td>245.755067</td>\n",
              "      <td>1.074199</td>\n",
              "      <td>244.783128</td>\n",
              "    </tr>\n",
              "    <tr>\n",
              "      <th>2019-04-30</th>\n",
              "      <td>260.729591</td>\n",
              "      <td>1.069530</td>\n",
              "      <td>258.975215</td>\n",
              "    </tr>\n",
              "    <tr>\n",
              "      <th>2019-05-31</th>\n",
              "      <td>250.337338</td>\n",
              "      <td>1.086864</td>\n",
              "      <td>249.599202</td>\n",
              "    </tr>\n",
              "    <tr>\n",
              "      <th>2019-06-30</th>\n",
              "      <td>260.180400</td>\n",
              "      <td>1.067334</td>\n",
              "      <td>259.461419</td>\n",
              "    </tr>\n",
              "    <tr>\n",
              "      <th>2019-07-31</th>\n",
              "      <td>255.089904</td>\n",
              "      <td>1.086207</td>\n",
              "      <td>254.203113</td>\n",
              "    </tr>\n",
              "    <tr>\n",
              "      <th>2019-08-31</th>\n",
              "      <td>250.718296</td>\n",
              "      <td>1.085197</td>\n",
              "      <td>249.911044</td>\n",
              "    </tr>\n",
              "    <tr>\n",
              "      <th>2019-09-30</th>\n",
              "      <td>253.849342</td>\n",
              "      <td>1.081608</td>\n",
              "      <td>252.762278</td>\n",
              "    </tr>\n",
              "    <tr>\n",
              "      <th>2019-10-31</th>\n",
              "      <td>249.289538</td>\n",
              "      <td>1.069909</td>\n",
              "      <td>248.665666</td>\n",
              "    </tr>\n",
              "    <tr>\n",
              "      <th>2019-11-30</th>\n",
              "      <td>244.471996</td>\n",
              "      <td>1.102305</td>\n",
              "      <td>243.567954</td>\n",
              "    </tr>\n",
              "    <tr>\n",
              "      <th>2019-12-31</th>\n",
              "      <td>251.770236</td>\n",
              "      <td>1.080189</td>\n",
              "      <td>250.736682</td>\n",
              "    </tr>\n",
              "    <tr>\n",
              "      <th>2020-01-31</th>\n",
              "      <td>282.473333</td>\n",
              "      <td>1.166667</td>\n",
              "      <td>279.981667</td>\n",
              "    </tr>\n",
              "  </tbody>\n",
              "</table>\n",
              "</div>"
            ],
            "text/plain": [
              "                 Sales  Quantity Ordered  Price Each\n",
              "Order Date                                          \n",
              "2019-01-31  248.546888          1.075000  247.023650\n",
              "2019-02-28  263.054548          1.073118  261.208366\n",
              "2019-03-31  245.755067          1.074199  244.783128\n",
              "2019-04-30  260.729591          1.069530  258.975215\n",
              "2019-05-31  250.337338          1.086864  249.599202\n",
              "2019-06-30  260.180400          1.067334  259.461419\n",
              "2019-07-31  255.089904          1.086207  254.203113\n",
              "2019-08-31  250.718296          1.085197  249.911044\n",
              "2019-09-30  253.849342          1.081608  252.762278\n",
              "2019-10-31  249.289538          1.069909  248.665666\n",
              "2019-11-30  244.471996          1.102305  243.567954\n",
              "2019-12-31  251.770236          1.080189  250.736682\n",
              "2020-01-31  282.473333          1.166667  279.981667"
            ]
          },
          "metadata": {},
          "execution_count": 50
        }
      ]
    },
    {
      "cell_type": "code",
      "metadata": {
        "id": "Qh7y1mz8G6j2",
        "colab": {
          "base_uri": "https://localhost:8080/"
        },
        "outputId": "4b8f0438-dd79-4be0-8326-f26764df5c18"
      },
      "source": [
        "print(DateFrame.shape)\n",
        "print(df_monthly_mean.shape)"
      ],
      "execution_count": 51,
      "outputs": [
        {
          "output_type": "stream",
          "name": "stdout",
          "text": [
            "(13, 2)\n",
            "(13, 3)\n"
          ]
        }
      ]
    },
    {
      "cell_type": "code",
      "metadata": {
        "id": "E_shtCd6Y_pg",
        "colab": {
          "base_uri": "https://localhost:8080/"
        },
        "outputId": "6aae4ab0-bd4b-4147-cf94-cd6ca38c334e"
      },
      "source": [
        "DataFrame.mean()"
      ],
      "execution_count": 52,
      "outputs": [
        {
          "output_type": "execute_result",
          "data": {
            "text/plain": [
              "Order ID                   inf\n",
              "Quantity Ordered      1.079391\n",
              "Price Each          251.494155\n",
              "Sales               252.541437\n",
              "Hour                 14.456755\n",
              "Minutes              29.635265\n",
              "dtype: float64"
            ]
          },
          "metadata": {},
          "execution_count": 52
        }
      ]
    },
    {
      "cell_type": "code",
      "metadata": {
        "colab": {
          "base_uri": "https://localhost:8080/",
          "height": 333
        },
        "id": "1tNlieNpHLES",
        "outputId": "764d7acf-68f2-49b8-ac23-0dcfb1db1561"
      },
      "source": [
        "start, end = '2019-01-01', '2019-06-01'\n",
        "fig, ax = plt.subplots()\n",
        "ax.plot(DataFrame.loc[start:end, 'Sales'],\n",
        "marker='.', linestyle='-', linewidth=0.70, label='Daily')\n",
        "ax.plot(df_monthly_mean.loc[start:end,'Sales'],\n",
        "marker='o', markersize=8, linestyle='-', label='Monthly Mean Resample')\n",
        "ax.set_ylabel('s')\n",
        "ax.legend();\n",
        "plt.xticks(rotation =90)\n",
        "# plotting for period of time using subplots function"
      ],
      "execution_count": 53,
      "outputs": [
        {
          "output_type": "execute_result",
          "data": {
            "text/plain": [
              "(array([737060., 737091., 737119., 737150., 737180., 737211.]),\n",
              " <a list of 6 Text major ticklabel objects>)"
            ]
          },
          "metadata": {},
          "execution_count": 53
        },
        {
          "output_type": "display_data",
          "data": {
            "image/png": "[encoded data removed]",
            "text/plain": [
              "<Figure size 432x288 with 1 Axes>"
            ]
          },
          "metadata": {
            "needs_background": "light"
          }
        }
      ]
    },
    {
      "cell_type": "code",
      "metadata": {
        "id": "9th-zgP6ZIDH"
      },
      "source": [
        "from sklearn.linear_model import LinearRegression\n",
        "from sklearn.model_selection import train_test_split \n",
        "from sklearn.metrics import mean_absolute_error\n",
        "from sklearn.metrics import mean_squared_error\n",
        "import numpy as np\n",
        "import matplotlib.pyplot as plt "
      ],
      "execution_count": 54,
      "outputs": []
    },
    {
      "cell_type": "code",
      "metadata": {
        "colab": {
          "base_uri": "https://localhost:8080/",
          "height": 455
        },
        "id": "bS2tEN-ORmNJ",
        "outputId": "a8e8891f-536e-40ae-a994-d51a1ee5130d"
      },
      "source": [
        "DataFrame"
      ],
      "execution_count": 55,
      "outputs": [
        {
          "output_type": "execute_result",
          "data": {
            "text/html": [
              "<div>\n",
              "<style scoped>\n",
              "    .dataframe tbody tr th:only-of-type {\n",
              "        vertical-align: middle;\n",
              "    }\n",
              "\n",
              "    .dataframe tbody tr th {\n",
              "        vertical-align: top;\n",
              "    }\n",
              "\n",
              "    .dataframe thead th {\n",
              "        text-align: right;\n",
              "    }\n",
              "</style>\n",
              "<table border=\"1\" class=\"dataframe\">\n",
              "  <thead>\n",
              "    <tr style=\"text-align: right;\">\n",
              "      <th></th>\n",
              "      <th>Order ID</th>\n",
              "      <th>Product</th>\n",
              "      <th>Quantity Ordered</th>\n",
              "      <th>Price Each</th>\n",
              "      <th>Purchase Address</th>\n",
              "      <th>Month</th>\n",
              "      <th>Sales</th>\n",
              "      <th>City</th>\n",
              "      <th>Hour</th>\n",
              "      <th>Minutes</th>\n",
              "    </tr>\n",
              "    <tr>\n",
              "      <th>Order Date</th>\n",
              "      <th></th>\n",
              "      <th></th>\n",
              "      <th></th>\n",
              "      <th></th>\n",
              "      <th></th>\n",
              "      <th></th>\n",
              "      <th></th>\n",
              "      <th></th>\n",
              "      <th></th>\n",
              "      <th></th>\n",
              "    </tr>\n",
              "  </thead>\n",
              "  <tbody>\n",
              "    <tr>\n",
              "      <th>2019-12-01</th>\n",
              "      <td>295681</td>\n",
              "      <td>Google Phone</td>\n",
              "      <td>1</td>\n",
              "      <td>600.00</td>\n",
              "      <td>79 Elm St, Boston, MA 02215</td>\n",
              "      <td>2019-12</td>\n",
              "      <td>600.00</td>\n",
              "      <td>Boston</td>\n",
              "      <td>12</td>\n",
              "      <td>37</td>\n",
              "    </tr>\n",
              "    <tr>\n",
              "      <th>2019-12-01</th>\n",
              "      <td>295681</td>\n",
              "      <td>USB-C Charging Cable</td>\n",
              "      <td>1</td>\n",
              "      <td>11.95</td>\n",
              "      <td>79 Elm St, Boston, MA 02215</td>\n",
              "      <td>2019-12</td>\n",
              "      <td>11.95</td>\n",
              "      <td>Boston</td>\n",
              "      <td>12</td>\n",
              "      <td>37</td>\n",
              "    </tr>\n",
              "    <tr>\n",
              "      <th>2019-12-01</th>\n",
              "      <td>295681</td>\n",
              "      <td>Bose SoundSport Headphones</td>\n",
              "      <td>1</td>\n",
              "      <td>99.99</td>\n",
              "      <td>79 Elm St, Boston, MA 02215</td>\n",
              "      <td>2019-12</td>\n",
              "      <td>99.99</td>\n",
              "      <td>Boston</td>\n",
              "      <td>12</td>\n",
              "      <td>37</td>\n",
              "    </tr>\n",
              "    <tr>\n",
              "      <th>2019-12-01</th>\n",
              "      <td>295681</td>\n",
              "      <td>Wired Headphones</td>\n",
              "      <td>1</td>\n",
              "      <td>11.99</td>\n",
              "      <td>79 Elm St, Boston, MA 02215</td>\n",
              "      <td>2019-12</td>\n",
              "      <td>11.99</td>\n",
              "      <td>Boston</td>\n",
              "      <td>12</td>\n",
              "      <td>37</td>\n",
              "    </tr>\n",
              "    <tr>\n",
              "      <th>2019-12-01</th>\n",
              "      <td>295698</td>\n",
              "      <td>Vareebadd Phone</td>\n",
              "      <td>1</td>\n",
              "      <td>400.00</td>\n",
              "      <td>175 1st St, New York City, NY 10001</td>\n",
              "      <td>2019-12</td>\n",
              "      <td>400.00</td>\n",
              "      <td>New York City</td>\n",
              "      <td>14</td>\n",
              "      <td>32</td>\n",
              "    </tr>\n",
              "    <tr>\n",
              "      <th>...</th>\n",
              "      <td>...</td>\n",
              "      <td>...</td>\n",
              "      <td>...</td>\n",
              "      <td>...</td>\n",
              "      <td>...</td>\n",
              "      <td>...</td>\n",
              "      <td>...</td>\n",
              "      <td>...</td>\n",
              "      <td>...</td>\n",
              "      <td>...</td>\n",
              "    </tr>\n",
              "    <tr>\n",
              "      <th>2019-11-01</th>\n",
              "      <td>295526</td>\n",
              "      <td>27in FHD Monitor</td>\n",
              "      <td>1</td>\n",
              "      <td>149.99</td>\n",
              "      <td>550 Park St, Dallas, TX 75001</td>\n",
              "      <td>2019-11</td>\n",
              "      <td>149.99</td>\n",
              "      <td>Dallas</td>\n",
              "      <td>11</td>\n",
              "      <td>26</td>\n",
              "    </tr>\n",
              "    <tr>\n",
              "      <th>2019-11-01</th>\n",
              "      <td>295534</td>\n",
              "      <td>Google Phone</td>\n",
              "      <td>1</td>\n",
              "      <td>600.00</td>\n",
              "      <td>22 Pine St, Boston, MA 02215</td>\n",
              "      <td>2019-11</td>\n",
              "      <td>600.00</td>\n",
              "      <td>Boston</td>\n",
              "      <td>19</td>\n",
              "      <td>21</td>\n",
              "    </tr>\n",
              "    <tr>\n",
              "      <th>2019-11-01</th>\n",
              "      <td>295534</td>\n",
              "      <td>USB-C Charging Cable</td>\n",
              "      <td>1</td>\n",
              "      <td>11.95</td>\n",
              "      <td>22 Pine St, Boston, MA 02215</td>\n",
              "      <td>2019-11</td>\n",
              "      <td>11.95</td>\n",
              "      <td>Boston</td>\n",
              "      <td>19</td>\n",
              "      <td>21</td>\n",
              "    </tr>\n",
              "    <tr>\n",
              "      <th>2019-11-01</th>\n",
              "      <td>295599</td>\n",
              "      <td>iPhone</td>\n",
              "      <td>1</td>\n",
              "      <td>700.00</td>\n",
              "      <td>258 Ridge St, New York City, NY 10001</td>\n",
              "      <td>2019-11</td>\n",
              "      <td>700.00</td>\n",
              "      <td>New York City</td>\n",
              "      <td>21</td>\n",
              "      <td>17</td>\n",
              "    </tr>\n",
              "    <tr>\n",
              "      <th>2019-11-01</th>\n",
              "      <td>295599</td>\n",
              "      <td>Apple Airpods Headphones</td>\n",
              "      <td>1</td>\n",
              "      <td>150.00</td>\n",
              "      <td>258 Ridge St, New York City, NY 10001</td>\n",
              "      <td>2019-11</td>\n",
              "      <td>150.00</td>\n",
              "      <td>New York City</td>\n",
              "      <td>21</td>\n",
              "      <td>17</td>\n",
              "    </tr>\n",
              "  </tbody>\n",
              "</table>\n",
              "<p>14649 rows × 10 columns</p>\n",
              "</div>"
            ],
            "text/plain": [
              "           Order ID                     Product  ...  Hour  Minutes\n",
              "Order Date                                       ...               \n",
              "2019-12-01   295681                Google Phone  ...    12       37\n",
              "2019-12-01   295681        USB-C Charging Cable  ...    12       37\n",
              "2019-12-01   295681  Bose SoundSport Headphones  ...    12       37\n",
              "2019-12-01   295681            Wired Headphones  ...    12       37\n",
              "2019-12-01   295698             Vareebadd Phone  ...    14       32\n",
              "...             ...                         ...  ...   ...      ...\n",
              "2019-11-01   295526            27in FHD Monitor  ...    11       26\n",
              "2019-11-01   295534                Google Phone  ...    19       21\n",
              "2019-11-01   295534        USB-C Charging Cable  ...    19       21\n",
              "2019-11-01   295599                      iPhone  ...    21       17\n",
              "2019-11-01   295599    Apple Airpods Headphones  ...    21       17\n",
              "\n",
              "[14649 rows x 10 columns]"
            ]
          },
          "metadata": {},
          "execution_count": 55
        }
      ]
    },
    {
      "cell_type": "code",
      "metadata": {
        "colab": {
          "base_uri": "https://localhost:8080/",
          "height": 488
        },
        "id": "F5Nil13HRmNJ",
        "outputId": "eee9c028-c7c9-45ff-87ce-a4a35fb611df"
      },
      "source": [
        "#Finding the average sales for each month \n",
        "DataframeMonthlyResample = DataFrame[(DataFrame.columns).tolist()].resample('M').mean()\n",
        "DataframeMonthlyResample"
      ],
      "execution_count": 56,
      "outputs": [
        {
          "output_type": "execute_result",
          "data": {
            "text/html": [
              "<div>\n",
              "<style scoped>\n",
              "    .dataframe tbody tr th:only-of-type {\n",
              "        vertical-align: middle;\n",
              "    }\n",
              "\n",
              "    .dataframe tbody tr th {\n",
              "        vertical-align: top;\n",
              "    }\n",
              "\n",
              "    .dataframe thead th {\n",
              "        text-align: right;\n",
              "    }\n",
              "</style>\n",
              "<table border=\"1\" class=\"dataframe\">\n",
              "  <thead>\n",
              "    <tr style=\"text-align: right;\">\n",
              "      <th></th>\n",
              "      <th>Quantity Ordered</th>\n",
              "      <th>Price Each</th>\n",
              "      <th>Sales</th>\n",
              "      <th>Hour</th>\n",
              "      <th>Minutes</th>\n",
              "    </tr>\n",
              "    <tr>\n",
              "      <th>Order Date</th>\n",
              "      <th></th>\n",
              "      <th></th>\n",
              "      <th></th>\n",
              "      <th></th>\n",
              "      <th></th>\n",
              "    </tr>\n",
              "  </thead>\n",
              "  <tbody>\n",
              "    <tr>\n",
              "      <th>2019-01-31</th>\n",
              "      <td>1.075000</td>\n",
              "      <td>247.023650</td>\n",
              "      <td>248.546888</td>\n",
              "      <td>14.552500</td>\n",
              "      <td>29.077500</td>\n",
              "    </tr>\n",
              "    <tr>\n",
              "      <th>2019-02-28</th>\n",
              "      <td>1.073118</td>\n",
              "      <td>261.208366</td>\n",
              "      <td>263.054548</td>\n",
              "      <td>14.788172</td>\n",
              "      <td>30.383871</td>\n",
              "    </tr>\n",
              "    <tr>\n",
              "      <th>2019-03-31</th>\n",
              "      <td>1.074199</td>\n",
              "      <td>244.783128</td>\n",
              "      <td>245.755067</td>\n",
              "      <td>14.625632</td>\n",
              "      <td>29.967116</td>\n",
              "    </tr>\n",
              "    <tr>\n",
              "      <th>2019-04-30</th>\n",
              "      <td>1.069530</td>\n",
              "      <td>258.975215</td>\n",
              "      <td>260.729591</td>\n",
              "      <td>14.436264</td>\n",
              "      <td>29.789366</td>\n",
              "    </tr>\n",
              "    <tr>\n",
              "      <th>2019-05-31</th>\n",
              "      <td>1.086864</td>\n",
              "      <td>249.599202</td>\n",
              "      <td>250.337338</td>\n",
              "      <td>14.551554</td>\n",
              "      <td>29.388418</td>\n",
              "    </tr>\n",
              "    <tr>\n",
              "      <th>2019-06-30</th>\n",
              "      <td>1.067334</td>\n",
              "      <td>259.461419</td>\n",
              "      <td>260.180400</td>\n",
              "      <td>14.315742</td>\n",
              "      <td>30.118289</td>\n",
              "    </tr>\n",
              "    <tr>\n",
              "      <th>2019-07-31</th>\n",
              "      <td>1.086207</td>\n",
              "      <td>254.203113</td>\n",
              "      <td>255.089904</td>\n",
              "      <td>14.722222</td>\n",
              "      <td>28.303640</td>\n",
              "    </tr>\n",
              "    <tr>\n",
              "      <th>2019-08-31</th>\n",
              "      <td>1.085197</td>\n",
              "      <td>249.911044</td>\n",
              "      <td>250.718296</td>\n",
              "      <td>14.493078</td>\n",
              "      <td>30.197018</td>\n",
              "    </tr>\n",
              "    <tr>\n",
              "      <th>2019-09-30</th>\n",
              "      <td>1.081608</td>\n",
              "      <td>252.762278</td>\n",
              "      <td>253.849342</td>\n",
              "      <td>15.079172</td>\n",
              "      <td>29.447016</td>\n",
              "    </tr>\n",
              "    <tr>\n",
              "      <th>2019-10-31</th>\n",
              "      <td>1.069909</td>\n",
              "      <td>248.665666</td>\n",
              "      <td>249.289538</td>\n",
              "      <td>14.037082</td>\n",
              "      <td>29.285714</td>\n",
              "    </tr>\n",
              "    <tr>\n",
              "      <th>2019-11-30</th>\n",
              "      <td>1.102305</td>\n",
              "      <td>243.567954</td>\n",
              "      <td>244.471996</td>\n",
              "      <td>14.229107</td>\n",
              "      <td>29.620317</td>\n",
              "    </tr>\n",
              "    <tr>\n",
              "      <th>2019-12-31</th>\n",
              "      <td>1.080189</td>\n",
              "      <td>250.736682</td>\n",
              "      <td>251.770236</td>\n",
              "      <td>14.313417</td>\n",
              "      <td>29.975891</td>\n",
              "    </tr>\n",
              "    <tr>\n",
              "      <th>2020-01-31</th>\n",
              "      <td>1.166667</td>\n",
              "      <td>279.981667</td>\n",
              "      <td>282.473333</td>\n",
              "      <td>1.666667</td>\n",
              "      <td>15.000000</td>\n",
              "    </tr>\n",
              "  </tbody>\n",
              "</table>\n",
              "</div>"
            ],
            "text/plain": [
              "            Quantity Ordered  Price Each       Sales       Hour    Minutes\n",
              "Order Date                                                                \n",
              "2019-01-31          1.075000  247.023650  248.546888  14.552500  29.077500\n",
              "2019-02-28          1.073118  261.208366  263.054548  14.788172  30.383871\n",
              "2019-03-31          1.074199  244.783128  245.755067  14.625632  29.967116\n",
              "2019-04-30          1.069530  258.975215  260.729591  14.436264  29.789366\n",
              "2019-05-31          1.086864  249.599202  250.337338  14.551554  29.388418\n",
              "2019-06-30          1.067334  259.461419  260.180400  14.315742  30.118289\n",
              "2019-07-31          1.086207  254.203113  255.089904  14.722222  28.303640\n",
              "2019-08-31          1.085197  249.911044  250.718296  14.493078  30.197018\n",
              "2019-09-30          1.081608  252.762278  253.849342  15.079172  29.447016\n",
              "2019-10-31          1.069909  248.665666  249.289538  14.037082  29.285714\n",
              "2019-11-30          1.102305  243.567954  244.471996  14.229107  29.620317\n",
              "2019-12-31          1.080189  250.736682  251.770236  14.313417  29.975891\n",
              "2020-01-31          1.166667  279.981667  282.473333   1.666667  15.000000"
            ]
          },
          "metadata": {},
          "execution_count": 56
        }
      ]
    },
    {
      "cell_type": "code",
      "metadata": {
        "id": "sazss4Dsu9Id",
        "colab": {
          "base_uri": "https://localhost:8080/"
        },
        "outputId": "5a2623f8-4814-4931-9596-3b754d41e483"
      },
      "source": [
        "#Taking The quantity, the price as input and the sales as output \n",
        "X = DataframeMonthlyResample.iloc[:,0:2].values\n",
        "print(X)\n",
        "Y = DataframeMonthlyResample.iloc[:,2:3].values\n",
        "print(Y)"
      ],
      "execution_count": 57,
      "outputs": [
        {
          "output_type": "stream",
          "name": "stdout",
          "text": [
            "[[  1.075      247.02365   ]\n",
            " [  1.07311828 261.20836559]\n",
            " [  1.07419899 244.78312816]\n",
            " [  1.06952965 258.97521472]\n",
            " [  1.08686441 249.59920198]\n",
            " [  1.06733394 259.46141947]\n",
            " [  1.0862069  254.20311303]\n",
            " [  1.08519702 249.91104366]\n",
            " [  1.0816078  252.76227771]\n",
            " [  1.06990881 248.66566565]\n",
            " [  1.10230548 243.56795389]\n",
            " [  1.08018868 250.73668239]\n",
            " [  1.16666667 279.98166667]]\n",
            "[[248.5468875 ]\n",
            " [263.05454839]\n",
            " [245.75506745]\n",
            " [260.729591  ]\n",
            " [250.33733757]\n",
            " [260.18040036]\n",
            " [255.08990421]\n",
            " [250.71829606]\n",
            " [253.84934227]\n",
            " [249.28953799]\n",
            " [244.47199568]\n",
            " [251.77023585]\n",
            " [282.47333333]]\n"
          ]
        }
      ]
    },
    {
      "cell_type": "code",
      "metadata": {
        "id": "H1AyFesoiknn",
        "colab": {
          "base_uri": "https://localhost:8080/"
        },
        "outputId": "c5470750-e8e2-42d2-af7b-b327bb9c9b6c"
      },
      "source": [
        "x_train,x_test,y_train,y_test = train_test_split(X,Y,test_size=0.20,random_state=4)\n",
        "print(x_train.shape)\n",
        "print(x_test.shape)\n",
        "print(y_train.shape)\n",
        "print(y_test.shape)"
      ],
      "execution_count": 58,
      "outputs": [
        {
          "output_type": "stream",
          "name": "stdout",
          "text": [
            "(10, 2)\n",
            "(3, 2)\n",
            "(10, 1)\n",
            "(3, 1)\n"
          ]
        }
      ]
    },
    {
      "cell_type": "code",
      "metadata": {
        "id": "e4Y8IiT7AOPJ",
        "colab": {
          "base_uri": "https://localhost:8080/"
        },
        "outputId": "67070bcd-655e-47cd-d1e1-88990bda7ae3"
      },
      "source": [
        "LRegressor = LinearRegression()\n",
        "LRegressor.fit(x_train,y_train)"
      ],
      "execution_count": 59,
      "outputs": [
        {
          "output_type": "execute_result",
          "data": {
            "text/plain": [
              "LinearRegression()"
            ]
          },
          "metadata": {},
          "execution_count": 59
        }
      ]
    },
    {
      "cell_type": "code",
      "metadata": {
        "id": "u7dMooLRRmNK"
      },
      "source": [
        "Y_pred = LRegressor.predict(x_test)"
      ],
      "execution_count": 60,
      "outputs": []
    },
    {
      "cell_type": "code",
      "metadata": {
        "colab": {
          "base_uri": "https://localhost:8080/"
        },
        "id": "nlYeZqztRmNK",
        "outputId": "46ad37ee-033c-4d32-d2f0-cc5ec5115f9b"
      },
      "source": [
        "from sklearn.metrics import mean_absolute_error\n",
        "from sklearn.metrics import mean_squared_error\n",
        "print(mean_squared_error(Y_pred,y_test))\n",
        "print(mean_absolute_error(Y_pred,y_test))"
      ],
      "execution_count": 61,
      "outputs": [
        {
          "output_type": "stream",
          "name": "stdout",
          "text": [
            "0.16204978031111414\n",
            "0.3917312305361615\n"
          ]
        }
      ]
    },
    {
      "cell_type": "code",
      "metadata": {
        "colab": {
          "base_uri": "https://localhost:8080/"
        },
        "id": "H1xO2uPmRmNL",
        "outputId": "f8e6ae49-d89a-45cb-b4c0-1a89e00c65ea"
      },
      "source": [
        "X[:,1]"
      ],
      "execution_count": 62,
      "outputs": [
        {
          "output_type": "execute_result",
          "data": {
            "text/plain": [
              "array([247.02365   , 261.20836559, 244.78312816, 258.97521472,\n",
              "       249.59920198, 259.46141947, 254.20311303, 249.91104366,\n",
              "       252.76227771, 248.66566565, 243.56795389, 250.73668239,\n",
              "       279.98166667])"
            ]
          },
          "metadata": {},
          "execution_count": 62
        }
      ]
    },
    {
      "cell_type": "code",
      "metadata": {
        "colab": {
          "base_uri": "https://localhost:8080/"
        },
        "id": "1NuEtEXJRmNL",
        "outputId": "bfe62ef6-2384-4e61-a183-f7e7d6333601"
      },
      "source": [
        "Y"
      ],
      "execution_count": 63,
      "outputs": [
        {
          "output_type": "execute_result",
          "data": {
            "text/plain": [
              "array([[248.5468875 ],\n",
              "       [263.05454839],\n",
              "       [245.75506745],\n",
              "       [260.729591  ],\n",
              "       [250.33733757],\n",
              "       [260.18040036],\n",
              "       [255.08990421],\n",
              "       [250.71829606],\n",
              "       [253.84934227],\n",
              "       [249.28953799],\n",
              "       [244.47199568],\n",
              "       [251.77023585],\n",
              "       [282.47333333]])"
            ]
          },
          "metadata": {},
          "execution_count": 63
        }
      ]
    },
    {
      "cell_type": "code",
      "metadata": {
        "colab": {
          "base_uri": "https://localhost:8080/",
          "height": 279
        },
        "id": "BciWdpTnRmNL",
        "outputId": "982fa3f6-4be7-48a6-c8f8-d21551dd63fd"
      },
      "source": [
        "#Scatter plot with points representing the relationship between the quantity ordered and the sales \n",
        "DataframeMonthlyResample.plot.scatter(x='Quantity Ordered',y='Sales')\n",
        "plt.scatter(X[:,1],Y,color='red') #Monthly Price on the left and monthly quantity ordered on the right\n",
        "plt.plot(x_test,Y_pred,color='yellow') \n",
        "#yellow line on the left represent the relationship between monthly price and sales\n",
        "#yellow line on the right represent the relationship between monthly quantity ordered and sales\n",
        "plt.show()"
      ],
      "execution_count": 64,
      "outputs": [
        {
          "output_type": "display_data",
          "data": {
            "image/png": "[encoded data removed]",
            "text/plain": [
              "<Figure size 432x288 with 1 Axes>"
            ]
          },
          "metadata": {
            "needs_background": "light"
          }
        }
      ]
    },
    {
      "cell_type": "code",
      "metadata": {
        "colab": {
          "base_uri": "https://localhost:8080/",
          "height": 81
        },
        "id": "s1DhX7NSeMUv",
        "outputId": "e6d404f6-0591-435a-aa9d-8a32454f6f85"
      },
      "source": [
        "DataFrame.mode()"
      ],
      "execution_count": 65,
      "outputs": [
        {
          "output_type": "execute_result",
          "data": {
            "text/html": [
              "<div>\n",
              "<style scoped>\n",
              "    .dataframe tbody tr th:only-of-type {\n",
              "        vertical-align: middle;\n",
              "    }\n",
              "\n",
              "    .dataframe tbody tr th {\n",
              "        vertical-align: top;\n",
              "    }\n",
              "\n",
              "    .dataframe thead th {\n",
              "        text-align: right;\n",
              "    }\n",
              "</style>\n",
              "<table border=\"1\" class=\"dataframe\">\n",
              "  <thead>\n",
              "    <tr style=\"text-align: right;\">\n",
              "      <th></th>\n",
              "      <th>Order ID</th>\n",
              "      <th>Product</th>\n",
              "      <th>Quantity Ordered</th>\n",
              "      <th>Price Each</th>\n",
              "      <th>Purchase Address</th>\n",
              "      <th>Month</th>\n",
              "      <th>Sales</th>\n",
              "      <th>City</th>\n",
              "      <th>Hour</th>\n",
              "      <th>Minutes</th>\n",
              "    </tr>\n",
              "  </thead>\n",
              "  <tbody>\n",
              "    <tr>\n",
              "      <th>0</th>\n",
              "      <td>160873</td>\n",
              "      <td>USB-C Charging Cable</td>\n",
              "      <td>1</td>\n",
              "      <td>11.95</td>\n",
              "      <td>197 Center St, San Francisco, CA 94016</td>\n",
              "      <td>2019-12</td>\n",
              "      <td>11.95</td>\n",
              "      <td>San Francisco</td>\n",
              "      <td>19</td>\n",
              "      <td>13</td>\n",
              "    </tr>\n",
              "  </tbody>\n",
              "</table>\n",
              "</div>"
            ],
            "text/plain": [
              "  Order ID               Product  ...  Hour  Minutes\n",
              "0   160873  USB-C Charging Cable  ...    19       13\n",
              "\n",
              "[1 rows x 10 columns]"
            ]
          },
          "metadata": {},
          "execution_count": 65
        }
      ]
    },
    {
      "cell_type": "code",
      "metadata": {
        "id": "VlomuNTVy3pG",
        "colab": {
          "base_uri": "https://localhost:8080/"
        },
        "outputId": "3b6c50cc-0061-4ef4-fa2a-d9a0c81e8eb9"
      },
      "source": [
        "print(\"mean : \",DataFrame['Sales'].mean())\n",
        "print(\"Mode \",DataFrame['Sales'].mode())\n",
        "print(\"Median of values in Phenols \",DataFrame['Sales'].median())"
      ],
      "execution_count": 66,
      "outputs": [
        {
          "output_type": "stream",
          "name": "stdout",
          "text": [
            "mean :  252.54143695819258\n",
            "Mode  0    11.95\n",
            "dtype: float64\n",
            "Median of values in Phenols  99.99\n"
          ]
        }
      ]
    },
    {
      "cell_type": "code",
      "metadata": {
        "colab": {
          "base_uri": "https://localhost:8080/"
        },
        "id": "kzwZ_t5V66iv",
        "outputId": "64f56124-e123-4e89-abd9-496a81b09b87"
      },
      "source": [
        "LRegressor.score(x_test,Y_pred)"
      ],
      "execution_count": 67,
      "outputs": [
        {
          "output_type": "execute_result",
          "data": {
            "text/plain": [
              "1.0"
            ]
          },
          "metadata": {},
          "execution_count": 67
        }
      ]
    }
  ]
}